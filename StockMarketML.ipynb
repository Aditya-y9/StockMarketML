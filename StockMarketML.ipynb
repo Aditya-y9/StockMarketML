{
  "cells": [
    {
      "cell_type": "markdown",
      "metadata": {
        "colab_type": "text",
        "id": "view-in-github"
      },
      "source": [
        "<a href=\"https://colab.research.google.com/github/Aditya-y9/StockMarketML/blob/main/StockMarketML.ipynb\" target=\"_parent\"><img src=\"https://colab.research.google.com/assets/colab-badge.svg\" alt=\"Open In Colab\"/></a>"
      ]
    },
    {
      "cell_type": "markdown",
      "metadata": {
        "id": "FA5cNFtvwwhB"
      },
      "source": [
        "# Stock Market Predictor (Advanced)"
      ]
    },
    {
      "cell_type": "code",
      "execution_count": 60,
      "metadata": {
        "id": "4itVOZqAtsoz"
      },
      "outputs": [],
      "source": [
        "import pandas as pd\n",
        "import numpy as np\n",
        "import matplotlib.pyplot as plt\n",
        "import yfinance as yf\n"
      ]
    },
    {
      "cell_type": "code",
      "execution_count": 61,
      "metadata": {
        "colab": {
          "base_uri": "https://localhost:8080/"
        },
        "id": "0aIq1xuf3PO7",
        "outputId": "0b2c177c-044c-4b27-b3cf-952a360a98c0"
      },
      "outputs": [
        {
          "name": "stdout",
          "output_type": "stream",
          "text": [
            "Requirement already satisfied: quandl in c:\\users\\mshome\\appdata\\local\\packages\\pythonsoftwarefoundation.python.3.11_qbz5n2kfra8p0\\localcache\\local-packages\\python311\\site-packages (3.7.0)\n",
            "Requirement already satisfied: pandas>=0.14 in c:\\users\\mshome\\appdata\\local\\packages\\pythonsoftwarefoundation.python.3.11_qbz5n2kfra8p0\\localcache\\local-packages\\python311\\site-packages (from quandl) (2.1.3)\n",
            "Requirement already satisfied: numpy>=1.8 in c:\\users\\mshome\\appdata\\local\\packages\\pythonsoftwarefoundation.python.3.11_qbz5n2kfra8p0\\localcache\\local-packages\\python311\\site-packages (from quandl) (1.25.2)\n",
            "Requirement already satisfied: requests>=2.7.0 in c:\\users\\mshome\\appdata\\local\\packages\\pythonsoftwarefoundation.python.3.11_qbz5n2kfra8p0\\localcache\\local-packages\\python311\\site-packages (from quandl) (2.31.0)\n",
            "Requirement already satisfied: inflection>=0.3.1 in c:\\users\\mshome\\appdata\\local\\packages\\pythonsoftwarefoundation.python.3.11_qbz5n2kfra8p0\\localcache\\local-packages\\python311\\site-packages (from quandl) (0.5.1)\n",
            "Requirement already satisfied: python-dateutil in c:\\users\\mshome\\appdata\\local\\packages\\pythonsoftwarefoundation.python.3.11_qbz5n2kfra8p0\\localcache\\local-packages\\python311\\site-packages (from quandl) (2.8.2)\n",
            "Requirement already satisfied: six in c:\\users\\mshome\\appdata\\local\\packages\\pythonsoftwarefoundation.python.3.11_qbz5n2kfra8p0\\localcache\\local-packages\\python311\\site-packages (from quandl) (1.16.0)\n",
            "Requirement already satisfied: more-itertools in c:\\users\\mshome\\appdata\\local\\packages\\pythonsoftwarefoundation.python.3.11_qbz5n2kfra8p0\\localcache\\local-packages\\python311\\site-packages (from quandl) (10.2.0)\n",
            "Requirement already satisfied: pytz>=2020.1 in c:\\users\\mshome\\appdata\\local\\packages\\pythonsoftwarefoundation.python.3.11_qbz5n2kfra8p0\\localcache\\local-packages\\python311\\site-packages (from pandas>=0.14->quandl) (2023.3.post1)\n",
            "Requirement already satisfied: tzdata>=2022.1 in c:\\users\\mshome\\appdata\\local\\packages\\pythonsoftwarefoundation.python.3.11_qbz5n2kfra8p0\\localcache\\local-packages\\python311\\site-packages (from pandas>=0.14->quandl) (2023.3)\n",
            "Requirement already satisfied: charset-normalizer<4,>=2 in c:\\users\\mshome\\appdata\\local\\packages\\pythonsoftwarefoundation.python.3.11_qbz5n2kfra8p0\\localcache\\local-packages\\python311\\site-packages (from requests>=2.7.0->quandl) (3.2.0)\n",
            "Requirement already satisfied: idna<4,>=2.5 in c:\\users\\mshome\\appdata\\local\\packages\\pythonsoftwarefoundation.python.3.11_qbz5n2kfra8p0\\localcache\\local-packages\\python311\\site-packages (from requests>=2.7.0->quandl) (3.4)\n",
            "Requirement already satisfied: urllib3<3,>=1.21.1 in c:\\users\\mshome\\appdata\\local\\packages\\pythonsoftwarefoundation.python.3.11_qbz5n2kfra8p0\\localcache\\local-packages\\python311\\site-packages (from requests>=2.7.0->quandl) (2.0.4)\n",
            "Requirement already satisfied: certifi>=2017.4.17 in c:\\users\\mshome\\appdata\\local\\packages\\pythonsoftwarefoundation.python.3.11_qbz5n2kfra8p0\\localcache\\local-packages\\python311\\site-packages (from requests>=2.7.0->quandl) (2023.7.22)\n"
          ]
        }
      ],
      "source": [
        "# website used to\n",
        "!pip install quandl\n",
        "import quandl"
      ]
    },
    {
      "cell_type": "code",
      "execution_count": 62,
      "metadata": {
        "id": "V___5eZ04gDM"
      },
      "outputs": [],
      "source": [
        "stock = yf.Ticker(\"HINDUNILVR.NS\")"
      ]
    },
    {
      "cell_type": "markdown",
      "metadata": {
        "id": "zwxKGTk0xRtD"
      },
      "source": [
        "Stock prices are time-series data (with time the data variable is changing)"
      ]
    },
    {
      "cell_type": "code",
      "execution_count": 63,
      "metadata": {
        "id": "Fxp0SryJ4jxs"
      },
      "outputs": [],
      "source": [
        "history = stock.history(period=\"max\")"
      ]
    },
    {
      "cell_type": "code",
      "execution_count": 64,
      "metadata": {
        "colab": {
          "base_uri": "https://localhost:8080/",
          "height": 455
        },
        "id": "GxNy0bPB4uMc",
        "outputId": "d389f05c-b914-458b-c15e-9c450d936453"
      },
      "outputs": [
        {
          "data": {
            "text/html": [
              "<div>\n",
              "<style scoped>\n",
              "    .dataframe tbody tr th:only-of-type {\n",
              "        vertical-align: middle;\n",
              "    }\n",
              "\n",
              "    .dataframe tbody tr th {\n",
              "        vertical-align: top;\n",
              "    }\n",
              "\n",
              "    .dataframe thead th {\n",
              "        text-align: right;\n",
              "    }\n",
              "</style>\n",
              "<table border=\"1\" class=\"dataframe\">\n",
              "  <thead>\n",
              "    <tr style=\"text-align: right;\">\n",
              "      <th></th>\n",
              "      <th>Open</th>\n",
              "      <th>High</th>\n",
              "      <th>Low</th>\n",
              "      <th>Close</th>\n",
              "      <th>Volume</th>\n",
              "      <th>Dividends</th>\n",
              "      <th>Stock Splits</th>\n",
              "    </tr>\n",
              "    <tr>\n",
              "      <th>Date</th>\n",
              "      <th></th>\n",
              "      <th></th>\n",
              "      <th></th>\n",
              "      <th></th>\n",
              "      <th></th>\n",
              "      <th></th>\n",
              "      <th></th>\n",
              "    </tr>\n",
              "  </thead>\n",
              "  <tbody>\n",
              "    <tr>\n",
              "      <th>1996-01-01 00:00:00+05:30</th>\n",
              "      <td>34.911098</td>\n",
              "      <td>35.121575</td>\n",
              "      <td>34.689396</td>\n",
              "      <td>34.689396</td>\n",
              "      <td>11000</td>\n",
              "      <td>0.0</td>\n",
              "      <td>0.0</td>\n",
              "    </tr>\n",
              "    <tr>\n",
              "      <th>1996-01-02 00:00:00+05:30</th>\n",
              "      <td>34.689383</td>\n",
              "      <td>35.191721</td>\n",
              "      <td>34.700609</td>\n",
              "      <td>35.059822</td>\n",
              "      <td>203500</td>\n",
              "      <td>0.0</td>\n",
              "      <td>0.0</td>\n",
              "    </tr>\n",
              "    <tr>\n",
              "      <th>1996-01-03 00:00:00+05:30</th>\n",
              "      <td>35.059827</td>\n",
              "      <td>34.995280</td>\n",
              "      <td>34.686581</td>\n",
              "      <td>34.852158</td>\n",
              "      <td>58000</td>\n",
              "      <td>0.0</td>\n",
              "      <td>0.0</td>\n",
              "    </tr>\n",
              "    <tr>\n",
              "      <th>1996-01-04 00:00:00+05:30</th>\n",
              "      <td>34.798843</td>\n",
              "      <td>34.967224</td>\n",
              "      <td>34.742716</td>\n",
              "      <td>34.854969</td>\n",
              "      <td>111500</td>\n",
              "      <td>0.0</td>\n",
              "      <td>0.0</td>\n",
              "    </tr>\n",
              "    <tr>\n",
              "      <th>1996-01-05 00:00:00+05:30</th>\n",
              "      <td>34.854962</td>\n",
              "      <td>35.023345</td>\n",
              "      <td>34.518200</td>\n",
              "      <td>34.798836</td>\n",
              "      <td>39500</td>\n",
              "      <td>0.0</td>\n",
              "      <td>0.0</td>\n",
              "    </tr>\n",
              "    <tr>\n",
              "      <th>...</th>\n",
              "      <td>...</td>\n",
              "      <td>...</td>\n",
              "      <td>...</td>\n",
              "      <td>...</td>\n",
              "      <td>...</td>\n",
              "      <td>...</td>\n",
              "      <td>...</td>\n",
              "    </tr>\n",
              "    <tr>\n",
              "      <th>2024-01-16 00:00:00+05:30</th>\n",
              "      <td>2573.199951</td>\n",
              "      <td>2584.600098</td>\n",
              "      <td>2556.350098</td>\n",
              "      <td>2569.100098</td>\n",
              "      <td>1599406</td>\n",
              "      <td>0.0</td>\n",
              "      <td>0.0</td>\n",
              "    </tr>\n",
              "    <tr>\n",
              "      <th>2024-01-17 00:00:00+05:30</th>\n",
              "      <td>2549.000000</td>\n",
              "      <td>2571.350098</td>\n",
              "      <td>2539.750000</td>\n",
              "      <td>2562.899902</td>\n",
              "      <td>3047652</td>\n",
              "      <td>0.0</td>\n",
              "      <td>0.0</td>\n",
              "    </tr>\n",
              "    <tr>\n",
              "      <th>2024-01-18 00:00:00+05:30</th>\n",
              "      <td>2570.000000</td>\n",
              "      <td>2570.000000</td>\n",
              "      <td>2537.550049</td>\n",
              "      <td>2548.000000</td>\n",
              "      <td>1273095</td>\n",
              "      <td>0.0</td>\n",
              "      <td>0.0</td>\n",
              "    </tr>\n",
              "    <tr>\n",
              "      <th>2024-01-19 00:00:00+05:30</th>\n",
              "      <td>2565.000000</td>\n",
              "      <td>2573.949951</td>\n",
              "      <td>2532.000000</td>\n",
              "      <td>2565.399902</td>\n",
              "      <td>1323064</td>\n",
              "      <td>0.0</td>\n",
              "      <td>0.0</td>\n",
              "    </tr>\n",
              "    <tr>\n",
              "      <th>2024-01-20 00:00:00+05:30</th>\n",
              "      <td>2519.949951</td>\n",
              "      <td>2523.000000</td>\n",
              "      <td>2466.100098</td>\n",
              "      <td>2468.899902</td>\n",
              "      <td>2465573</td>\n",
              "      <td>0.0</td>\n",
              "      <td>0.0</td>\n",
              "    </tr>\n",
              "  </tbody>\n",
              "</table>\n",
              "<p>7054 rows × 7 columns</p>\n",
              "</div>"
            ],
            "text/plain": [
              "                                  Open         High          Low        Close  \\\n",
              "Date                                                                            \n",
              "1996-01-01 00:00:00+05:30    34.911098    35.121575    34.689396    34.689396   \n",
              "1996-01-02 00:00:00+05:30    34.689383    35.191721    34.700609    35.059822   \n",
              "1996-01-03 00:00:00+05:30    35.059827    34.995280    34.686581    34.852158   \n",
              "1996-01-04 00:00:00+05:30    34.798843    34.967224    34.742716    34.854969   \n",
              "1996-01-05 00:00:00+05:30    34.854962    35.023345    34.518200    34.798836   \n",
              "...                                ...          ...          ...          ...   \n",
              "2024-01-16 00:00:00+05:30  2573.199951  2584.600098  2556.350098  2569.100098   \n",
              "2024-01-17 00:00:00+05:30  2549.000000  2571.350098  2539.750000  2562.899902   \n",
              "2024-01-18 00:00:00+05:30  2570.000000  2570.000000  2537.550049  2548.000000   \n",
              "2024-01-19 00:00:00+05:30  2565.000000  2573.949951  2532.000000  2565.399902   \n",
              "2024-01-20 00:00:00+05:30  2519.949951  2523.000000  2466.100098  2468.899902   \n",
              "\n",
              "                            Volume  Dividends  Stock Splits  \n",
              "Date                                                         \n",
              "1996-01-01 00:00:00+05:30    11000        0.0           0.0  \n",
              "1996-01-02 00:00:00+05:30   203500        0.0           0.0  \n",
              "1996-01-03 00:00:00+05:30    58000        0.0           0.0  \n",
              "1996-01-04 00:00:00+05:30   111500        0.0           0.0  \n",
              "1996-01-05 00:00:00+05:30    39500        0.0           0.0  \n",
              "...                            ...        ...           ...  \n",
              "2024-01-16 00:00:00+05:30  1599406        0.0           0.0  \n",
              "2024-01-17 00:00:00+05:30  3047652        0.0           0.0  \n",
              "2024-01-18 00:00:00+05:30  1273095        0.0           0.0  \n",
              "2024-01-19 00:00:00+05:30  1323064        0.0           0.0  \n",
              "2024-01-20 00:00:00+05:30  2465573        0.0           0.0  \n",
              "\n",
              "[7054 rows x 7 columns]"
            ]
          },
          "execution_count": 64,
          "metadata": {},
          "output_type": "execute_result"
        }
      ],
      "source": [
        "history"
      ]
    },
    {
      "cell_type": "code",
      "execution_count": 65,
      "metadata": {
        "colab": {
          "base_uri": "https://localhost:8080/"
        },
        "id": "Nupe3h5Z42I8",
        "outputId": "deb1e61c-b774-4923-8a3a-8f4a62979f81"
      },
      "outputs": [
        {
          "data": {
            "text/plain": [
              "DatetimeIndex(['1996-01-01 00:00:00+05:30', '1996-01-02 00:00:00+05:30',\n",
              "               '1996-01-03 00:00:00+05:30', '1996-01-04 00:00:00+05:30',\n",
              "               '1996-01-05 00:00:00+05:30', '1996-01-08 00:00:00+05:30',\n",
              "               '1996-01-09 00:00:00+05:30', '1996-01-10 00:00:00+05:30',\n",
              "               '1996-01-11 00:00:00+05:30', '1996-01-12 00:00:00+05:30',\n",
              "               ...\n",
              "               '2024-01-09 00:00:00+05:30', '2024-01-10 00:00:00+05:30',\n",
              "               '2024-01-11 00:00:00+05:30', '2024-01-12 00:00:00+05:30',\n",
              "               '2024-01-15 00:00:00+05:30', '2024-01-16 00:00:00+05:30',\n",
              "               '2024-01-17 00:00:00+05:30', '2024-01-18 00:00:00+05:30',\n",
              "               '2024-01-19 00:00:00+05:30', '2024-01-20 00:00:00+05:30'],\n",
              "              dtype='datetime64[ns, Asia/Kolkata]', name='Date', length=7054, freq=None)"
            ]
          },
          "execution_count": 65,
          "metadata": {},
          "output_type": "execute_result"
        }
      ],
      "source": [
        "history.index"
      ]
    },
    {
      "cell_type": "markdown",
      "metadata": {
        "id": "ULDIZGZH5D23"
      },
      "source": [
        "# CLEANING AND VISUALIZING"
      ]
    },
    {
      "cell_type": "code",
      "execution_count": 66,
      "metadata": {
        "colab": {
          "base_uri": "https://localhost:8080/",
          "height": 440
        },
        "id": "mo6PLadU5Hg7",
        "outputId": "ad7914df-24dd-42aa-8d9d-b24e02a449e8"
      },
      "outputs": [
        {
          "data": {
            "text/plain": [
              "<Axes: xlabel='Date'>"
            ]
          },
          "execution_count": 66,
          "metadata": {},
          "output_type": "execute_result"
        },
        {
          "data": {
            "image/png": "[encoded data removed]",
            "text/plain": [
              "<Figure size 640x480 with 1 Axes>"
            ]
          },
          "metadata": {},
          "output_type": "display_data"
        }
      ],
      "source": [
        "history.plot.line(y=\"Close\",use_index=True)"
      ]
    },
    {
      "cell_type": "code",
      "execution_count": 67,
      "metadata": {
        "id": "ufZ9dlww5bYz"
      },
      "outputs": [],
      "source": [
        "# Why didnt I buy this! (crying)"
      ]
    },
    {
      "cell_type": "code",
      "execution_count": 68,
      "metadata": {
        "id": "Zf3HphEs5k7u"
      },
      "outputs": [],
      "source": [
        "# delete unnecessary columns\n",
        "del history[\"Dividends\"]\n",
        "del history[\"Stock Splits\"]"
      ]
    },
    {
      "cell_type": "markdown",
      "metadata": {
        "id": "2JrdJDne56Zm"
      },
      "source": [
        "# Setting up our TARGET for ML"
      ]
    },
    {
      "cell_type": "code",
      "execution_count": 69,
      "metadata": {
        "id": "O1vWVfml59Ek"
      },
      "outputs": [],
      "source": [
        "# creating a column for Tomorrow's Price\n",
        "history[\"Tomorrow\"]  = history[\"Close\"].shift(-1)\n",
        "\n",
        "# shifted all prices back one day"
      ]
    },
    {
      "cell_type": "code",
      "execution_count": 70,
      "metadata": {
        "colab": {
          "base_uri": "https://localhost:8080/",
          "height": 455
        },
        "id": "HMtxRJtD6bjB",
        "outputId": "ff76eeed-66a2-41a8-b9f2-6772d89bb06d"
      },
      "outputs": [
        {
          "data": {
            "text/html": [
              "<div>\n",
              "<style scoped>\n",
              "    .dataframe tbody tr th:only-of-type {\n",
              "        vertical-align: middle;\n",
              "    }\n",
              "\n",
              "    .dataframe tbody tr th {\n",
              "        vertical-align: top;\n",
              "    }\n",
              "\n",
              "    .dataframe thead th {\n",
              "        text-align: right;\n",
              "    }\n",
              "</style>\n",
              "<table border=\"1\" class=\"dataframe\">\n",
              "  <thead>\n",
              "    <tr style=\"text-align: right;\">\n",
              "      <th></th>\n",
              "      <th>Open</th>\n",
              "      <th>High</th>\n",
              "      <th>Low</th>\n",
              "      <th>Close</th>\n",
              "      <th>Volume</th>\n",
              "      <th>Tomorrow</th>\n",
              "    </tr>\n",
              "    <tr>\n",
              "      <th>Date</th>\n",
              "      <th></th>\n",
              "      <th></th>\n",
              "      <th></th>\n",
              "      <th></th>\n",
              "      <th></th>\n",
              "      <th></th>\n",
              "    </tr>\n",
              "  </thead>\n",
              "  <tbody>\n",
              "    <tr>\n",
              "      <th>1996-01-01 00:00:00+05:30</th>\n",
              "      <td>34.911098</td>\n",
              "      <td>35.121575</td>\n",
              "      <td>34.689396</td>\n",
              "      <td>34.689396</td>\n",
              "      <td>11000</td>\n",
              "      <td>35.059822</td>\n",
              "    </tr>\n",
              "    <tr>\n",
              "      <th>1996-01-02 00:00:00+05:30</th>\n",
              "      <td>34.689383</td>\n",
              "      <td>35.191721</td>\n",
              "      <td>34.700609</td>\n",
              "      <td>35.059822</td>\n",
              "      <td>203500</td>\n",
              "      <td>34.852158</td>\n",
              "    </tr>\n",
              "    <tr>\n",
              "      <th>1996-01-03 00:00:00+05:30</th>\n",
              "      <td>35.059827</td>\n",
              "      <td>34.995280</td>\n",
              "      <td>34.686581</td>\n",
              "      <td>34.852158</td>\n",
              "      <td>58000</td>\n",
              "      <td>34.854969</td>\n",
              "    </tr>\n",
              "    <tr>\n",
              "      <th>1996-01-04 00:00:00+05:30</th>\n",
              "      <td>34.798843</td>\n",
              "      <td>34.967224</td>\n",
              "      <td>34.742716</td>\n",
              "      <td>34.854969</td>\n",
              "      <td>111500</td>\n",
              "      <td>34.798836</td>\n",
              "    </tr>\n",
              "    <tr>\n",
              "      <th>1996-01-05 00:00:00+05:30</th>\n",
              "      <td>34.854962</td>\n",
              "      <td>35.023345</td>\n",
              "      <td>34.518200</td>\n",
              "      <td>34.798836</td>\n",
              "      <td>39500</td>\n",
              "      <td>34.812862</td>\n",
              "    </tr>\n",
              "    <tr>\n",
              "      <th>...</th>\n",
              "      <td>...</td>\n",
              "      <td>...</td>\n",
              "      <td>...</td>\n",
              "      <td>...</td>\n",
              "      <td>...</td>\n",
              "      <td>...</td>\n",
              "    </tr>\n",
              "    <tr>\n",
              "      <th>2024-01-16 00:00:00+05:30</th>\n",
              "      <td>2573.199951</td>\n",
              "      <td>2584.600098</td>\n",
              "      <td>2556.350098</td>\n",
              "      <td>2569.100098</td>\n",
              "      <td>1599406</td>\n",
              "      <td>2562.899902</td>\n",
              "    </tr>\n",
              "    <tr>\n",
              "      <th>2024-01-17 00:00:00+05:30</th>\n",
              "      <td>2549.000000</td>\n",
              "      <td>2571.350098</td>\n",
              "      <td>2539.750000</td>\n",
              "      <td>2562.899902</td>\n",
              "      <td>3047652</td>\n",
              "      <td>2548.000000</td>\n",
              "    </tr>\n",
              "    <tr>\n",
              "      <th>2024-01-18 00:00:00+05:30</th>\n",
              "      <td>2570.000000</td>\n",
              "      <td>2570.000000</td>\n",
              "      <td>2537.550049</td>\n",
              "      <td>2548.000000</td>\n",
              "      <td>1273095</td>\n",
              "      <td>2565.399902</td>\n",
              "    </tr>\n",
              "    <tr>\n",
              "      <th>2024-01-19 00:00:00+05:30</th>\n",
              "      <td>2565.000000</td>\n",
              "      <td>2573.949951</td>\n",
              "      <td>2532.000000</td>\n",
              "      <td>2565.399902</td>\n",
              "      <td>1323064</td>\n",
              "      <td>2468.899902</td>\n",
              "    </tr>\n",
              "    <tr>\n",
              "      <th>2024-01-20 00:00:00+05:30</th>\n",
              "      <td>2519.949951</td>\n",
              "      <td>2523.000000</td>\n",
              "      <td>2466.100098</td>\n",
              "      <td>2468.899902</td>\n",
              "      <td>2465573</td>\n",
              "      <td>NaN</td>\n",
              "    </tr>\n",
              "  </tbody>\n",
              "</table>\n",
              "<p>7054 rows × 6 columns</p>\n",
              "</div>"
            ],
            "text/plain": [
              "                                  Open         High          Low        Close  \\\n",
              "Date                                                                            \n",
              "1996-01-01 00:00:00+05:30    34.911098    35.121575    34.689396    34.689396   \n",
              "1996-01-02 00:00:00+05:30    34.689383    35.191721    34.700609    35.059822   \n",
              "1996-01-03 00:00:00+05:30    35.059827    34.995280    34.686581    34.852158   \n",
              "1996-01-04 00:00:00+05:30    34.798843    34.967224    34.742716    34.854969   \n",
              "1996-01-05 00:00:00+05:30    34.854962    35.023345    34.518200    34.798836   \n",
              "...                                ...          ...          ...          ...   \n",
              "2024-01-16 00:00:00+05:30  2573.199951  2584.600098  2556.350098  2569.100098   \n",
              "2024-01-17 00:00:00+05:30  2549.000000  2571.350098  2539.750000  2562.899902   \n",
              "2024-01-18 00:00:00+05:30  2570.000000  2570.000000  2537.550049  2548.000000   \n",
              "2024-01-19 00:00:00+05:30  2565.000000  2573.949951  2532.000000  2565.399902   \n",
              "2024-01-20 00:00:00+05:30  2519.949951  2523.000000  2466.100098  2468.899902   \n",
              "\n",
              "                            Volume     Tomorrow  \n",
              "Date                                             \n",
              "1996-01-01 00:00:00+05:30    11000    35.059822  \n",
              "1996-01-02 00:00:00+05:30   203500    34.852158  \n",
              "1996-01-03 00:00:00+05:30    58000    34.854969  \n",
              "1996-01-04 00:00:00+05:30   111500    34.798836  \n",
              "1996-01-05 00:00:00+05:30    39500    34.812862  \n",
              "...                            ...          ...  \n",
              "2024-01-16 00:00:00+05:30  1599406  2562.899902  \n",
              "2024-01-17 00:00:00+05:30  3047652  2548.000000  \n",
              "2024-01-18 00:00:00+05:30  1273095  2565.399902  \n",
              "2024-01-19 00:00:00+05:30  1323064  2468.899902  \n",
              "2024-01-20 00:00:00+05:30  2465573          NaN  \n",
              "\n",
              "[7054 rows x 6 columns]"
            ]
          },
          "execution_count": 70,
          "metadata": {},
          "output_type": "execute_result"
        }
      ],
      "source": [
        "history"
      ]
    },
    {
      "cell_type": "code",
      "execution_count": 71,
      "metadata": {
        "id": "8wX__V317Hoq"
      },
      "outputs": [],
      "source": [
        "# boolean indicating if tomorrow's price is greater than today's price\n",
        "\n",
        "# then converting it to binary data for our model\n",
        "history[\"Target\"] = (history[\"Tomorrow\"] > history[\"Close\"]).astype(int)"
      ]
    },
    {
      "cell_type": "code",
      "execution_count": 72,
      "metadata": {
        "colab": {
          "base_uri": "https://localhost:8080/",
          "height": 455
        },
        "id": "hgW31Uft7hoj",
        "outputId": "440163f0-96a8-4f76-eac5-2b413dec0521"
      },
      "outputs": [
        {
          "data": {
            "text/html": [
              "<div>\n",
              "<style scoped>\n",
              "    .dataframe tbody tr th:only-of-type {\n",
              "        vertical-align: middle;\n",
              "    }\n",
              "\n",
              "    .dataframe tbody tr th {\n",
              "        vertical-align: top;\n",
              "    }\n",
              "\n",
              "    .dataframe thead th {\n",
              "        text-align: right;\n",
              "    }\n",
              "</style>\n",
              "<table border=\"1\" class=\"dataframe\">\n",
              "  <thead>\n",
              "    <tr style=\"text-align: right;\">\n",
              "      <th></th>\n",
              "      <th>Open</th>\n",
              "      <th>High</th>\n",
              "      <th>Low</th>\n",
              "      <th>Close</th>\n",
              "      <th>Volume</th>\n",
              "      <th>Tomorrow</th>\n",
              "      <th>Target</th>\n",
              "    </tr>\n",
              "    <tr>\n",
              "      <th>Date</th>\n",
              "      <th></th>\n",
              "      <th></th>\n",
              "      <th></th>\n",
              "      <th></th>\n",
              "      <th></th>\n",
              "      <th></th>\n",
              "      <th></th>\n",
              "    </tr>\n",
              "  </thead>\n",
              "  <tbody>\n",
              "    <tr>\n",
              "      <th>1996-01-01 00:00:00+05:30</th>\n",
              "      <td>34.911098</td>\n",
              "      <td>35.121575</td>\n",
              "      <td>34.689396</td>\n",
              "      <td>34.689396</td>\n",
              "      <td>11000</td>\n",
              "      <td>35.059822</td>\n",
              "      <td>1</td>\n",
              "    </tr>\n",
              "    <tr>\n",
              "      <th>1996-01-02 00:00:00+05:30</th>\n",
              "      <td>34.689383</td>\n",
              "      <td>35.191721</td>\n",
              "      <td>34.700609</td>\n",
              "      <td>35.059822</td>\n",
              "      <td>203500</td>\n",
              "      <td>34.852158</td>\n",
              "      <td>0</td>\n",
              "    </tr>\n",
              "    <tr>\n",
              "      <th>1996-01-03 00:00:00+05:30</th>\n",
              "      <td>35.059827</td>\n",
              "      <td>34.995280</td>\n",
              "      <td>34.686581</td>\n",
              "      <td>34.852158</td>\n",
              "      <td>58000</td>\n",
              "      <td>34.854969</td>\n",
              "      <td>1</td>\n",
              "    </tr>\n",
              "    <tr>\n",
              "      <th>1996-01-04 00:00:00+05:30</th>\n",
              "      <td>34.798843</td>\n",
              "      <td>34.967224</td>\n",
              "      <td>34.742716</td>\n",
              "      <td>34.854969</td>\n",
              "      <td>111500</td>\n",
              "      <td>34.798836</td>\n",
              "      <td>0</td>\n",
              "    </tr>\n",
              "    <tr>\n",
              "      <th>1996-01-05 00:00:00+05:30</th>\n",
              "      <td>34.854962</td>\n",
              "      <td>35.023345</td>\n",
              "      <td>34.518200</td>\n",
              "      <td>34.798836</td>\n",
              "      <td>39500</td>\n",
              "      <td>34.812862</td>\n",
              "      <td>1</td>\n",
              "    </tr>\n",
              "    <tr>\n",
              "      <th>...</th>\n",
              "      <td>...</td>\n",
              "      <td>...</td>\n",
              "      <td>...</td>\n",
              "      <td>...</td>\n",
              "      <td>...</td>\n",
              "      <td>...</td>\n",
              "      <td>...</td>\n",
              "    </tr>\n",
              "    <tr>\n",
              "      <th>2024-01-16 00:00:00+05:30</th>\n",
              "      <td>2573.199951</td>\n",
              "      <td>2584.600098</td>\n",
              "      <td>2556.350098</td>\n",
              "      <td>2569.100098</td>\n",
              "      <td>1599406</td>\n",
              "      <td>2562.899902</td>\n",
              "      <td>0</td>\n",
              "    </tr>\n",
              "    <tr>\n",
              "      <th>2024-01-17 00:00:00+05:30</th>\n",
              "      <td>2549.000000</td>\n",
              "      <td>2571.350098</td>\n",
              "      <td>2539.750000</td>\n",
              "      <td>2562.899902</td>\n",
              "      <td>3047652</td>\n",
              "      <td>2548.000000</td>\n",
              "      <td>0</td>\n",
              "    </tr>\n",
              "    <tr>\n",
              "      <th>2024-01-18 00:00:00+05:30</th>\n",
              "      <td>2570.000000</td>\n",
              "      <td>2570.000000</td>\n",
              "      <td>2537.550049</td>\n",
              "      <td>2548.000000</td>\n",
              "      <td>1273095</td>\n",
              "      <td>2565.399902</td>\n",
              "      <td>1</td>\n",
              "    </tr>\n",
              "    <tr>\n",
              "      <th>2024-01-19 00:00:00+05:30</th>\n",
              "      <td>2565.000000</td>\n",
              "      <td>2573.949951</td>\n",
              "      <td>2532.000000</td>\n",
              "      <td>2565.399902</td>\n",
              "      <td>1323064</td>\n",
              "      <td>2468.899902</td>\n",
              "      <td>0</td>\n",
              "    </tr>\n",
              "    <tr>\n",
              "      <th>2024-01-20 00:00:00+05:30</th>\n",
              "      <td>2519.949951</td>\n",
              "      <td>2523.000000</td>\n",
              "      <td>2466.100098</td>\n",
              "      <td>2468.899902</td>\n",
              "      <td>2465573</td>\n",
              "      <td>NaN</td>\n",
              "      <td>0</td>\n",
              "    </tr>\n",
              "  </tbody>\n",
              "</table>\n",
              "<p>7054 rows × 7 columns</p>\n",
              "</div>"
            ],
            "text/plain": [
              "                                  Open         High          Low        Close  \\\n",
              "Date                                                                            \n",
              "1996-01-01 00:00:00+05:30    34.911098    35.121575    34.689396    34.689396   \n",
              "1996-01-02 00:00:00+05:30    34.689383    35.191721    34.700609    35.059822   \n",
              "1996-01-03 00:00:00+05:30    35.059827    34.995280    34.686581    34.852158   \n",
              "1996-01-04 00:00:00+05:30    34.798843    34.967224    34.742716    34.854969   \n",
              "1996-01-05 00:00:00+05:30    34.854962    35.023345    34.518200    34.798836   \n",
              "...                                ...          ...          ...          ...   \n",
              "2024-01-16 00:00:00+05:30  2573.199951  2584.600098  2556.350098  2569.100098   \n",
              "2024-01-17 00:00:00+05:30  2549.000000  2571.350098  2539.750000  2562.899902   \n",
              "2024-01-18 00:00:00+05:30  2570.000000  2570.000000  2537.550049  2548.000000   \n",
              "2024-01-19 00:00:00+05:30  2565.000000  2573.949951  2532.000000  2565.399902   \n",
              "2024-01-20 00:00:00+05:30  2519.949951  2523.000000  2466.100098  2468.899902   \n",
              "\n",
              "                            Volume     Tomorrow  Target  \n",
              "Date                                                     \n",
              "1996-01-01 00:00:00+05:30    11000    35.059822       1  \n",
              "1996-01-02 00:00:00+05:30   203500    34.852158       0  \n",
              "1996-01-03 00:00:00+05:30    58000    34.854969       1  \n",
              "1996-01-04 00:00:00+05:30   111500    34.798836       0  \n",
              "1996-01-05 00:00:00+05:30    39500    34.812862       1  \n",
              "...                            ...          ...     ...  \n",
              "2024-01-16 00:00:00+05:30  1599406  2562.899902       0  \n",
              "2024-01-17 00:00:00+05:30  3047652  2548.000000       0  \n",
              "2024-01-18 00:00:00+05:30  1273095  2565.399902       1  \n",
              "2024-01-19 00:00:00+05:30  1323064  2468.899902       0  \n",
              "2024-01-20 00:00:00+05:30  2465573          NaN       0  \n",
              "\n",
              "[7054 rows x 7 columns]"
            ]
          },
          "execution_count": 72,
          "metadata": {},
          "output_type": "execute_result"
        }
      ],
      "source": [
        "history"
      ]
    },
    {
      "cell_type": "code",
      "execution_count": 73,
      "metadata": {
        "id": "AJC_vVys7k66"
      },
      "outputs": [],
      "source": [
        "# only take data which is relatively naya\n",
        "history = history.loc[\"2010-01-01\":].copy()"
      ]
    },
    {
      "cell_type": "code",
      "execution_count": 74,
      "metadata": {},
      "outputs": [
        {
          "data": {
            "text/html": [
              "<div>\n",
              "<style scoped>\n",
              "    .dataframe tbody tr th:only-of-type {\n",
              "        vertical-align: middle;\n",
              "    }\n",
              "\n",
              "    .dataframe tbody tr th {\n",
              "        vertical-align: top;\n",
              "    }\n",
              "\n",
              "    .dataframe thead th {\n",
              "        text-align: right;\n",
              "    }\n",
              "</style>\n",
              "<table border=\"1\" class=\"dataframe\">\n",
              "  <thead>\n",
              "    <tr style=\"text-align: right;\">\n",
              "      <th></th>\n",
              "      <th>Open</th>\n",
              "      <th>High</th>\n",
              "      <th>Low</th>\n",
              "      <th>Close</th>\n",
              "      <th>Volume</th>\n",
              "      <th>Tomorrow</th>\n",
              "      <th>Target</th>\n",
              "    </tr>\n",
              "    <tr>\n",
              "      <th>Date</th>\n",
              "      <th></th>\n",
              "      <th></th>\n",
              "      <th></th>\n",
              "      <th></th>\n",
              "      <th></th>\n",
              "      <th></th>\n",
              "      <th></th>\n",
              "    </tr>\n",
              "  </thead>\n",
              "  <tbody>\n",
              "    <tr>\n",
              "      <th>2010-01-04 00:00:00+05:30</th>\n",
              "      <td>205.037266</td>\n",
              "      <td>206.121319</td>\n",
              "      <td>204.495263</td>\n",
              "      <td>204.959854</td>\n",
              "      <td>668858</td>\n",
              "      <td>204.301666</td>\n",
              "      <td>0</td>\n",
              "    </tr>\n",
              "    <tr>\n",
              "      <th>2010-01-05 00:00:00+05:30</th>\n",
              "      <td>205.772850</td>\n",
              "      <td>206.276147</td>\n",
              "      <td>203.256343</td>\n",
              "      <td>204.301666</td>\n",
              "      <td>1392726</td>\n",
              "      <td>205.463120</td>\n",
              "      <td>1</td>\n",
              "    </tr>\n",
              "    <tr>\n",
              "      <th>2010-01-06 00:00:00+05:30</th>\n",
              "      <td>204.998529</td>\n",
              "      <td>205.966416</td>\n",
              "      <td>203.333767</td>\n",
              "      <td>205.463120</td>\n",
              "      <td>1682107</td>\n",
              "      <td>205.037216</td>\n",
              "      <td>0</td>\n",
              "    </tr>\n",
              "    <tr>\n",
              "      <th>2010-01-07 00:00:00+05:30</th>\n",
              "      <td>205.269523</td>\n",
              "      <td>206.934285</td>\n",
              "      <td>204.533920</td>\n",
              "      <td>205.037216</td>\n",
              "      <td>2723548</td>\n",
              "      <td>205.927765</td>\n",
              "      <td>1</td>\n",
              "    </tr>\n",
              "    <tr>\n",
              "      <th>2010-01-08 00:00:00+05:30</th>\n",
              "      <td>205.269597</td>\n",
              "      <td>206.740781</td>\n",
              "      <td>204.533993</td>\n",
              "      <td>205.927765</td>\n",
              "      <td>4000986</td>\n",
              "      <td>206.043900</td>\n",
              "      <td>1</td>\n",
              "    </tr>\n",
              "    <tr>\n",
              "      <th>...</th>\n",
              "      <td>...</td>\n",
              "      <td>...</td>\n",
              "      <td>...</td>\n",
              "      <td>...</td>\n",
              "      <td>...</td>\n",
              "      <td>...</td>\n",
              "      <td>...</td>\n",
              "    </tr>\n",
              "    <tr>\n",
              "      <th>2024-01-16 00:00:00+05:30</th>\n",
              "      <td>2573.199951</td>\n",
              "      <td>2584.600098</td>\n",
              "      <td>2556.350098</td>\n",
              "      <td>2569.100098</td>\n",
              "      <td>1599406</td>\n",
              "      <td>2562.899902</td>\n",
              "      <td>0</td>\n",
              "    </tr>\n",
              "    <tr>\n",
              "      <th>2024-01-17 00:00:00+05:30</th>\n",
              "      <td>2549.000000</td>\n",
              "      <td>2571.350098</td>\n",
              "      <td>2539.750000</td>\n",
              "      <td>2562.899902</td>\n",
              "      <td>3047652</td>\n",
              "      <td>2548.000000</td>\n",
              "      <td>0</td>\n",
              "    </tr>\n",
              "    <tr>\n",
              "      <th>2024-01-18 00:00:00+05:30</th>\n",
              "      <td>2570.000000</td>\n",
              "      <td>2570.000000</td>\n",
              "      <td>2537.550049</td>\n",
              "      <td>2548.000000</td>\n",
              "      <td>1273095</td>\n",
              "      <td>2565.399902</td>\n",
              "      <td>1</td>\n",
              "    </tr>\n",
              "    <tr>\n",
              "      <th>2024-01-19 00:00:00+05:30</th>\n",
              "      <td>2565.000000</td>\n",
              "      <td>2573.949951</td>\n",
              "      <td>2532.000000</td>\n",
              "      <td>2565.399902</td>\n",
              "      <td>1323064</td>\n",
              "      <td>2468.899902</td>\n",
              "      <td>0</td>\n",
              "    </tr>\n",
              "    <tr>\n",
              "      <th>2024-01-20 00:00:00+05:30</th>\n",
              "      <td>2519.949951</td>\n",
              "      <td>2523.000000</td>\n",
              "      <td>2466.100098</td>\n",
              "      <td>2468.899902</td>\n",
              "      <td>2465573</td>\n",
              "      <td>NaN</td>\n",
              "      <td>0</td>\n",
              "    </tr>\n",
              "  </tbody>\n",
              "</table>\n",
              "<p>3470 rows × 7 columns</p>\n",
              "</div>"
            ],
            "text/plain": [
              "                                  Open         High          Low        Close  \\\n",
              "Date                                                                            \n",
              "2010-01-04 00:00:00+05:30   205.037266   206.121319   204.495263   204.959854   \n",
              "2010-01-05 00:00:00+05:30   205.772850   206.276147   203.256343   204.301666   \n",
              "2010-01-06 00:00:00+05:30   204.998529   205.966416   203.333767   205.463120   \n",
              "2010-01-07 00:00:00+05:30   205.269523   206.934285   204.533920   205.037216   \n",
              "2010-01-08 00:00:00+05:30   205.269597   206.740781   204.533993   205.927765   \n",
              "...                                ...          ...          ...          ...   \n",
              "2024-01-16 00:00:00+05:30  2573.199951  2584.600098  2556.350098  2569.100098   \n",
              "2024-01-17 00:00:00+05:30  2549.000000  2571.350098  2539.750000  2562.899902   \n",
              "2024-01-18 00:00:00+05:30  2570.000000  2570.000000  2537.550049  2548.000000   \n",
              "2024-01-19 00:00:00+05:30  2565.000000  2573.949951  2532.000000  2565.399902   \n",
              "2024-01-20 00:00:00+05:30  2519.949951  2523.000000  2466.100098  2468.899902   \n",
              "\n",
              "                            Volume     Tomorrow  Target  \n",
              "Date                                                     \n",
              "2010-01-04 00:00:00+05:30   668858   204.301666       0  \n",
              "2010-01-05 00:00:00+05:30  1392726   205.463120       1  \n",
              "2010-01-06 00:00:00+05:30  1682107   205.037216       0  \n",
              "2010-01-07 00:00:00+05:30  2723548   205.927765       1  \n",
              "2010-01-08 00:00:00+05:30  4000986   206.043900       1  \n",
              "...                            ...          ...     ...  \n",
              "2024-01-16 00:00:00+05:30  1599406  2562.899902       0  \n",
              "2024-01-17 00:00:00+05:30  3047652  2548.000000       0  \n",
              "2024-01-18 00:00:00+05:30  1273095  2565.399902       1  \n",
              "2024-01-19 00:00:00+05:30  1323064  2468.899902       0  \n",
              "2024-01-20 00:00:00+05:30  2465573          NaN       0  \n",
              "\n",
              "[3470 rows x 7 columns]"
            ]
          },
          "execution_count": 74,
          "metadata": {},
          "output_type": "execute_result"
        }
      ],
      "source": [
        "history"
      ]
    },
    {
      "cell_type": "markdown",
      "metadata": {
        "id": "OH3i-s-CHSdK"
      },
      "source": [
        "# Training an initial Machine Learning Model"
      ]
    },
    {
      "cell_type": "code",
      "execution_count": 75,
      "metadata": {
        "colab": {
          "base_uri": "https://localhost:8080/",
          "height": 74
        },
        "id": "Dwrkg4IGHXgS",
        "outputId": "f100fe19-e0c2-4db7-e4d9-668410cd67de"
      },
      "outputs": [
        {
          "data": {
            "text/html": [
              "<style>#sk-container-id-3 {color: black;}#sk-container-id-3 pre{padding: 0;}#sk-container-id-3 div.sk-toggleable {background-color: white;}#sk-container-id-3 label.sk-toggleable__label {cursor: pointer;display: block;width: 100%;margin-bottom: 0;padding: 0.3em;box-sizing: border-box;text-align: center;}#sk-container-id-3 label.sk-toggleable__label-arrow:before {content: \"▸\";float: left;margin-right: 0.25em;color: #696969;}#sk-container-id-3 label.sk-toggleable__label-arrow:hover:before {color: black;}#sk-container-id-3 div.sk-estimator:hover label.sk-toggleable__label-arrow:before {color: black;}#sk-container-id-3 div.sk-toggleable__content {max-height: 0;max-width: 0;overflow: hidden;text-align: left;background-color: #f0f8ff;}#sk-container-id-3 div.sk-toggleable__content pre {margin: 0.2em;color: black;border-radius: 0.25em;background-color: #f0f8ff;}#sk-container-id-3 input.sk-toggleable__control:checked~div.sk-toggleable__content {max-height: 200px;max-width: 100%;overflow: auto;}#sk-container-id-3 input.sk-toggleable__control:checked~label.sk-toggleable__label-arrow:before {content: \"▾\";}#sk-container-id-3 div.sk-estimator input.sk-toggleable__control:checked~label.sk-toggleable__label {background-color: #d4ebff;}#sk-container-id-3 div.sk-label input.sk-toggleable__control:checked~label.sk-toggleable__label {background-color: #d4ebff;}#sk-container-id-3 input.sk-hidden--visually {border: 0;clip: rect(1px 1px 1px 1px);clip: rect(1px, 1px, 1px, 1px);height: 1px;margin: -1px;overflow: hidden;padding: 0;position: absolute;width: 1px;}#sk-container-id-3 div.sk-estimator {font-family: monospace;background-color: #f0f8ff;border: 1px dotted black;border-radius: 0.25em;box-sizing: border-box;margin-bottom: 0.5em;}#sk-container-id-3 div.sk-estimator:hover {background-color: #d4ebff;}#sk-container-id-3 div.sk-parallel-item::after {content: \"\";width: 100%;border-bottom: 1px solid gray;flex-grow: 1;}#sk-container-id-3 div.sk-label:hover label.sk-toggleable__label {background-color: #d4ebff;}#sk-container-id-3 div.sk-serial::before {content: \"\";position: absolute;border-left: 1px solid gray;box-sizing: border-box;top: 0;bottom: 0;left: 50%;z-index: 0;}#sk-container-id-3 div.sk-serial {display: flex;flex-direction: column;align-items: center;background-color: white;padding-right: 0.2em;padding-left: 0.2em;position: relative;}#sk-container-id-3 div.sk-item {position: relative;z-index: 1;}#sk-container-id-3 div.sk-parallel {display: flex;align-items: stretch;justify-content: center;background-color: white;position: relative;}#sk-container-id-3 div.sk-item::before, #sk-container-id-3 div.sk-parallel-item::before {content: \"\";position: absolute;border-left: 1px solid gray;box-sizing: border-box;top: 0;bottom: 0;left: 50%;z-index: -1;}#sk-container-id-3 div.sk-parallel-item {display: flex;flex-direction: column;z-index: 1;position: relative;background-color: white;}#sk-container-id-3 div.sk-parallel-item:first-child::after {align-self: flex-end;width: 50%;}#sk-container-id-3 div.sk-parallel-item:last-child::after {align-self: flex-start;width: 50%;}#sk-container-id-3 div.sk-parallel-item:only-child::after {width: 0;}#sk-container-id-3 div.sk-dashed-wrapped {border: 1px dashed gray;margin: 0 0.4em 0.5em 0.4em;box-sizing: border-box;padding-bottom: 0.4em;background-color: white;}#sk-container-id-3 div.sk-label label {font-family: monospace;font-weight: bold;display: inline-block;line-height: 1.2em;}#sk-container-id-3 div.sk-label-container {text-align: center;}#sk-container-id-3 div.sk-container {/* jupyter's `normalize.less` sets `[hidden] { display: none; }` but bootstrap.min.css set `[hidden] { display: none !important; }` so we also need the `!important` here to be able to override the default hidden behavior on the sphinx rendered scikit-learn.org. See: https://github.com/scikit-learn/scikit-learn/issues/21755 */display: inline-block !important;position: relative;}#sk-container-id-3 div.sk-text-repr-fallback {display: none;}</style><div id=\"sk-container-id-3\" class=\"sk-top-container\"><div class=\"sk-text-repr-fallback\"><pre>RandomForestClassifier(min_samples_split=100, n_estimators=1000, random_state=1)</pre><b>In a Jupyter environment, please rerun this cell to show the HTML representation or trust the notebook. <br />On GitHub, the HTML representation is unable to render, please try loading this page with nbviewer.org.</b></div><div class=\"sk-container\" hidden><div class=\"sk-item\"><div class=\"sk-estimator sk-toggleable\"><input class=\"sk-toggleable__control sk-hidden--visually\" id=\"sk-estimator-id-3\" type=\"checkbox\" checked><label for=\"sk-estimator-id-3\" class=\"sk-toggleable__label sk-toggleable__label-arrow\">RandomForestClassifier</label><div class=\"sk-toggleable__content\"><pre>RandomForestClassifier(min_samples_split=100, n_estimators=1000, random_state=1)</pre></div></div></div></div></div>"
            ],
            "text/plain": [
              "RandomForestClassifier(min_samples_split=100, n_estimators=1000, random_state=1)"
            ]
          },
          "execution_count": 75,
          "metadata": {},
          "output_type": "execute_result"
        }
      ],
      "source": [
        "from sklearn.ensemble import RandomForestClassifier\n",
        "\n",
        "\n",
        "# work by training randomparameters and average out.\n",
        "# resistant to overfitting\n",
        "# can pick up non-linear tendencies in the data\n",
        "\n",
        "# for example open price is not linearly related with the target\n",
        "                              # higher --> better  , optimum  ,\n",
        "model = RandomForestClassifier(n_estimators=1000,min_samples_split = 100,random_state = 1)\n",
        "\n",
        "\n",
        "# splitting data\n",
        "\n",
        "# all rows till 100 in the trauning set\n",
        "train = history.iloc[:-100]\n",
        "\n",
        "\n",
        "\n",
        "# last hundred rows in the test set\n",
        "test = history.iloc[-100:]\n",
        "\n",
        "\n",
        "\n",
        "\n",
        "predictors = [\"Close\",\"Volume\",\"Open\",\"High\",\"Low\"]\n",
        "\n",
        "model.fit(train[predictors],train[\"Target\"])"
      ]
    },
    {
      "cell_type": "code",
      "execution_count": 76,
      "metadata": {
        "id": "UDSaKFr4KAmV"
      },
      "outputs": [],
      "source": [
        "from sklearn.metrics import precision_score\n",
        "\n",
        "\n",
        "# exam time!\n",
        "\n",
        "\n",
        "preds = model.predict(test[predictors])"
      ]
    },
    {
      "cell_type": "code",
      "execution_count": 77,
      "metadata": {
        "id": "g6RH0ddUKXqN"
      },
      "outputs": [],
      "source": [
        "import pandas as pd\n",
        "preds = pd.Series(preds,index=test.index)"
      ]
    },
    {
      "cell_type": "code",
      "execution_count": 78,
      "metadata": {
        "colab": {
          "base_uri": "https://localhost:8080/"
        },
        "id": "sDPxu-8DKvuq",
        "outputId": "1f3fcf1c-b9f2-449c-a81b-a77720c7571b"
      },
      "outputs": [
        {
          "data": {
            "text/plain": [
              "0.5735294117647058"
            ]
          },
          "execution_count": 78,
          "metadata": {},
          "output_type": "execute_result"
        }
      ],
      "source": [
        "precision_score(test[\"Target\"],preds)"
      ]
    },
    {
      "cell_type": "markdown",
      "metadata": {
        "id": "tQWtL9n0K2Yu"
      },
      "source": [
        "# Making the Model Better"
      ]
    },
    {
      "cell_type": "code",
      "execution_count": 79,
      "metadata": {
        "id": "6He-yfB7K4iL"
      },
      "outputs": [],
      "source": [
        "combined  = pd.concat([test[\"Target\"],preds],axis=1)"
      ]
    },
    {
      "cell_type": "code",
      "execution_count": 80,
      "metadata": {
        "colab": {
          "base_uri": "https://localhost:8080/",
          "height": 451
        },
        "id": "zk_e3EGiLOF9",
        "outputId": "ff2034f9-2d57-4365-a5b4-f987a62753b1"
      },
      "outputs": [
        {
          "data": {
            "text/plain": [
              "<Axes: xlabel='Date'>"
            ]
          },
          "execution_count": 80,
          "metadata": {},
          "output_type": "execute_result"
        },
        {
          "data": {
            "image/png": "[encoded data removed]",
            "text/plain": [
              "<Figure size 640x480 with 1 Axes>"
            ]
          },
          "metadata": {},
          "output_type": "display_data"
        }
      ],
      "source": [
        "combined.plot()"
      ]
    },
    {
      "cell_type": "markdown",
      "metadata": {
        "id": "sYYJFbB-LcyB"
      },
      "source": [
        "# Building a BackTesting System"
      ]
    },
    {
      "cell_type": "code",
      "execution_count": 81,
      "metadata": {
        "id": "ft-5waV8LfRE"
      },
      "outputs": [],
      "source": [
        "def predict(train, test, predictors, model):\n",
        "    model.fit(train[predictors], train[\"Target\"])\n",
        "    preds = model.predict(test[predictors])\n",
        "    preds = pd.Series(preds, index=test.index, name=\"Predictions\")\n",
        "    combined = pd.concat([test[\"Target\"], preds], axis=1)\n",
        "    return combined"
      ]
    },
    {
      "cell_type": "code",
      "execution_count": 82,
      "metadata": {
        "colab": {
          "base_uri": "https://localhost:8080/",
          "height": 692
        },
        "id": "_zKIzXv1MW_p",
        "outputId": "1c061bfe-5393-4993-e0ce-52c3d0bf4a46"
      },
      "outputs": [],
      "source": [
        "def backtest(data, model, predictors, start=2500, step=250):\n",
        "    all_predictions = []\n",
        "\n",
        "    for i in range(start, data.shape[0], step):\n",
        "        train = data.iloc[0:i].copy()\n",
        "        test = data.iloc[i:(i+step)].copy()\n",
        "        predictions = predict(train, test, predictors, model)\n",
        "        all_predictions.append(predictions)\n",
        "    \n",
        "    return pd.concat(all_predictions)\n",
        "  "
      ]
    },
    {
      "cell_type": "code",
      "execution_count": 83,
      "metadata": {},
      "outputs": [],
      "source": [
        "predictions = backtest(history, model, predictors)"
      ]
    },
    {
      "cell_type": "code",
      "execution_count": 85,
      "metadata": {
        "id": "c9uj3JQkM27x"
      },
      "outputs": [
        {
          "name": "stdout",
          "output_type": "stream",
          "text": [
            "Predictions\n",
            "0    510\n",
            "1    460\n",
            "Name: count, dtype: int64\n"
          ]
        }
      ],
      "source": [
        "if 'Predictions' in predictions.columns:\n",
        "    print(predictions[\"Predictions\"].value_counts())\n",
        "else:\n",
        "    print(\"The 'Predictions' column does not exist in the DataFrame.\")\n"
      ]
    }
  ],
  "metadata": {
    "colab": {
      "authorship_tag": "ABX9TyPl3g4C0X8OW23O92WC2ROA",
      "include_colab_link": true,
      "provenance": []
    },
    "kernelspec": {
      "display_name": "Python 3",
      "name": "python3"
    },
    "language_info": {
      "codemirror_mode": {
        "name": "ipython",
        "version": 3
      },
      "file_extension": ".py",
      "mimetype": "text/x-python",
      "name": "python",
      "nbconvert_exporter": "python",
      "pygments_lexer": "ipython3",
      "version": "3.11.7"
    }
  },
  "nbformat": 4,
  "nbformat_minor": 0
}
