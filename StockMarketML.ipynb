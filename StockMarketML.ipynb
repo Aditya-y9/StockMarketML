{
  "cells": [
    {
      "cell_type": "markdown",
      "metadata": {
        "colab_type": "text",
        "id": "view-in-github"
      },
      "source": [
        "<a href=\"https://colab.research.google.com/github/Aditya-y9/StockMarketML/blob/main/StockMarketML.ipynb\" target=\"_parent\"><img src=\"https://colab.research.google.com/assets/colab-badge.svg\" alt=\"Open In Colab\"/></a>"
      ]
    },
    {
      "cell_type": "markdown",
      "metadata": {
        "id": "FA5cNFtvwwhB"
      },
      "source": [
        "# Stock Market Predictor (Advanced)"
      ]
    },
    {
      "cell_type": "code",
      "execution_count": 183,
      "metadata": {
        "id": "4itVOZqAtsoz"
      },
      "outputs": [],
      "source": [
        "import pandas as pd\n",
        "import numpy as np\n",
        "import matplotlib.pyplot as plt\n",
        "import yfinance as yf\n"
      ]
    },
    {
      "cell_type": "code",
      "execution_count": 184,
      "metadata": {
        "colab": {
          "base_uri": "https://localhost:8080/"
        },
        "id": "0aIq1xuf3PO7",
        "outputId": "0b2c177c-044c-4b27-b3cf-952a360a98c0"
      },
      "outputs": [
        {
          "name": "stdout",
          "output_type": "stream",
          "text": [
            "Requirement already satisfied: quandl in c:\\users\\mshome\\appdata\\local\\packages\\pythonsoftwarefoundation.python.3.11_qbz5n2kfra8p0\\localcache\\local-packages\\python311\\site-packages (3.7.0)\n",
            "Requirement already satisfied: pandas>=0.14 in c:\\users\\mshome\\appdata\\local\\packages\\pythonsoftwarefoundation.python.3.11_qbz5n2kfra8p0\\localcache\\local-packages\\python311\\site-packages (from quandl) (2.1.3)\n",
            "Requirement already satisfied: numpy>=1.8 in c:\\users\\mshome\\appdata\\local\\packages\\pythonsoftwarefoundation.python.3.11_qbz5n2kfra8p0\\localcache\\local-packages\\python311\\site-packages (from quandl) (1.25.2)\n",
            "Requirement already satisfied: requests>=2.7.0 in c:\\users\\mshome\\appdata\\local\\packages\\pythonsoftwarefoundation.python.3.11_qbz5n2kfra8p0\\localcache\\local-packages\\python311\\site-packages (from quandl) (2.31.0)\n",
            "Requirement already satisfied: inflection>=0.3.1 in c:\\users\\mshome\\appdata\\local\\packages\\pythonsoftwarefoundation.python.3.11_qbz5n2kfra8p0\\localcache\\local-packages\\python311\\site-packages (from quandl) (0.5.1)\n",
            "Requirement already satisfied: python-dateutil in c:\\users\\mshome\\appdata\\local\\packages\\pythonsoftwarefoundation.python.3.11_qbz5n2kfra8p0\\localcache\\local-packages\\python311\\site-packages (from quandl) (2.8.2)\n",
            "Requirement already satisfied: six in c:\\users\\mshome\\appdata\\local\\packages\\pythonsoftwarefoundation.python.3.11_qbz5n2kfra8p0\\localcache\\local-packages\\python311\\site-packages (from quandl) (1.16.0)\n",
            "Requirement already satisfied: more-itertools in c:\\users\\mshome\\appdata\\local\\packages\\pythonsoftwarefoundation.python.3.11_qbz5n2kfra8p0\\localcache\\local-packages\\python311\\site-packages (from quandl) (10.2.0)\n",
            "Requirement already satisfied: pytz>=2020.1 in c:\\users\\mshome\\appdata\\local\\packages\\pythonsoftwarefoundation.python.3.11_qbz5n2kfra8p0\\localcache\\local-packages\\python311\\site-packages (from pandas>=0.14->quandl) (2023.3.post1)\n",
            "Requirement already satisfied: tzdata>=2022.1 in c:\\users\\mshome\\appdata\\local\\packages\\pythonsoftwarefoundation.python.3.11_qbz5n2kfra8p0\\localcache\\local-packages\\python311\\site-packages (from pandas>=0.14->quandl) (2023.3)\n",
            "Requirement already satisfied: charset-normalizer<4,>=2 in c:\\users\\mshome\\appdata\\local\\packages\\pythonsoftwarefoundation.python.3.11_qbz5n2kfra8p0\\localcache\\local-packages\\python311\\site-packages (from requests>=2.7.0->quandl) (3.2.0)\n",
            "Requirement already satisfied: idna<4,>=2.5 in c:\\users\\mshome\\appdata\\local\\packages\\pythonsoftwarefoundation.python.3.11_qbz5n2kfra8p0\\localcache\\local-packages\\python311\\site-packages (from requests>=2.7.0->quandl) (3.4)\n",
            "Requirement already satisfied: urllib3<3,>=1.21.1 in c:\\users\\mshome\\appdata\\local\\packages\\pythonsoftwarefoundation.python.3.11_qbz5n2kfra8p0\\localcache\\local-packages\\python311\\site-packages (from requests>=2.7.0->quandl) (2.0.4)\n",
            "Requirement already satisfied: certifi>=2017.4.17 in c:\\users\\mshome\\appdata\\local\\packages\\pythonsoftwarefoundation.python.3.11_qbz5n2kfra8p0\\localcache\\local-packages\\python311\\site-packages (from requests>=2.7.0->quandl) (2023.7.22)\n"
          ]
        }
      ],
      "source": [
        "# website used to\n",
        "!pip install quandl\n",
        "import quandl"
      ]
    },
    {
      "cell_type": "code",
      "execution_count": 186,
      "metadata": {
        "id": "V___5eZ04gDM"
      },
      "outputs": [],
      "source": [
        "stock = yf.Ticker(\"HINDUNILVR.NS\")"
      ]
    },
    {
      "cell_type": "markdown",
      "metadata": {
        "id": "zwxKGTk0xRtD"
      },
      "source": [
        "Stock prices are time-series data (with time the data variable is changing)"
      ]
    },
    {
      "cell_type": "code",
      "execution_count": 187,
      "metadata": {
        "id": "Fxp0SryJ4jxs"
      },
      "outputs": [],
      "source": [
        "history = stock.history(period=\"max\")"
      ]
    },
    {
      "cell_type": "code",
      "execution_count": 188,
      "metadata": {
        "colab": {
          "base_uri": "https://localhost:8080/",
          "height": 455
        },
        "id": "GxNy0bPB4uMc",
        "outputId": "d389f05c-b914-458b-c15e-9c450d936453"
      },
      "outputs": [
        {
          "data": {
            "text/html": [
              "<div>\n",
              "<style scoped>\n",
              "    .dataframe tbody tr th:only-of-type {\n",
              "        vertical-align: middle;\n",
              "    }\n",
              "\n",
              "    .dataframe tbody tr th {\n",
              "        vertical-align: top;\n",
              "    }\n",
              "\n",
              "    .dataframe thead th {\n",
              "        text-align: right;\n",
              "    }\n",
              "</style>\n",
              "<table border=\"1\" class=\"dataframe\">\n",
              "  <thead>\n",
              "    <tr style=\"text-align: right;\">\n",
              "      <th></th>\n",
              "      <th>Open</th>\n",
              "      <th>High</th>\n",
              "      <th>Low</th>\n",
              "      <th>Close</th>\n",
              "      <th>Volume</th>\n",
              "      <th>Dividends</th>\n",
              "      <th>Stock Splits</th>\n",
              "    </tr>\n",
              "    <tr>\n",
              "      <th>Date</th>\n",
              "      <th></th>\n",
              "      <th></th>\n",
              "      <th></th>\n",
              "      <th></th>\n",
              "      <th></th>\n",
              "      <th></th>\n",
              "      <th></th>\n",
              "    </tr>\n",
              "  </thead>\n",
              "  <tbody>\n",
              "    <tr>\n",
              "      <th>1996-01-01 00:00:00+05:30</th>\n",
              "      <td>34.911098</td>\n",
              "      <td>35.121575</td>\n",
              "      <td>34.689396</td>\n",
              "      <td>34.689396</td>\n",
              "      <td>11000</td>\n",
              "      <td>0.0</td>\n",
              "      <td>0.0</td>\n",
              "    </tr>\n",
              "    <tr>\n",
              "      <th>1996-01-02 00:00:00+05:30</th>\n",
              "      <td>34.689394</td>\n",
              "      <td>35.191733</td>\n",
              "      <td>34.700620</td>\n",
              "      <td>35.059834</td>\n",
              "      <td>203500</td>\n",
              "      <td>0.0</td>\n",
              "      <td>0.0</td>\n",
              "    </tr>\n",
              "    <tr>\n",
              "      <th>1996-01-03 00:00:00+05:30</th>\n",
              "      <td>35.059824</td>\n",
              "      <td>34.995276</td>\n",
              "      <td>34.686578</td>\n",
              "      <td>34.852154</td>\n",
              "      <td>58000</td>\n",
              "      <td>0.0</td>\n",
              "      <td>0.0</td>\n",
              "    </tr>\n",
              "    <tr>\n",
              "      <th>1996-01-04 00:00:00+05:30</th>\n",
              "      <td>34.798835</td>\n",
              "      <td>34.967216</td>\n",
              "      <td>34.742709</td>\n",
              "      <td>34.854961</td>\n",
              "      <td>111500</td>\n",
              "      <td>0.0</td>\n",
              "      <td>0.0</td>\n",
              "    </tr>\n",
              "    <tr>\n",
              "      <th>1996-01-05 00:00:00+05:30</th>\n",
              "      <td>34.854970</td>\n",
              "      <td>35.023353</td>\n",
              "      <td>34.518208</td>\n",
              "      <td>34.798843</td>\n",
              "      <td>39500</td>\n",
              "      <td>0.0</td>\n",
              "      <td>0.0</td>\n",
              "    </tr>\n",
              "    <tr>\n",
              "      <th>...</th>\n",
              "      <td>...</td>\n",
              "      <td>...</td>\n",
              "      <td>...</td>\n",
              "      <td>...</td>\n",
              "      <td>...</td>\n",
              "      <td>...</td>\n",
              "      <td>...</td>\n",
              "    </tr>\n",
              "    <tr>\n",
              "      <th>2024-01-16 00:00:00+05:30</th>\n",
              "      <td>2573.199951</td>\n",
              "      <td>2584.600098</td>\n",
              "      <td>2556.350098</td>\n",
              "      <td>2569.100098</td>\n",
              "      <td>1599406</td>\n",
              "      <td>0.0</td>\n",
              "      <td>0.0</td>\n",
              "    </tr>\n",
              "    <tr>\n",
              "      <th>2024-01-17 00:00:00+05:30</th>\n",
              "      <td>2549.000000</td>\n",
              "      <td>2571.350098</td>\n",
              "      <td>2539.750000</td>\n",
              "      <td>2562.899902</td>\n",
              "      <td>3047652</td>\n",
              "      <td>0.0</td>\n",
              "      <td>0.0</td>\n",
              "    </tr>\n",
              "    <tr>\n",
              "      <th>2024-01-18 00:00:00+05:30</th>\n",
              "      <td>2570.000000</td>\n",
              "      <td>2570.000000</td>\n",
              "      <td>2537.550049</td>\n",
              "      <td>2548.000000</td>\n",
              "      <td>1273095</td>\n",
              "      <td>0.0</td>\n",
              "      <td>0.0</td>\n",
              "    </tr>\n",
              "    <tr>\n",
              "      <th>2024-01-19 00:00:00+05:30</th>\n",
              "      <td>2565.000000</td>\n",
              "      <td>2573.949951</td>\n",
              "      <td>2532.000000</td>\n",
              "      <td>2565.399902</td>\n",
              "      <td>1323064</td>\n",
              "      <td>0.0</td>\n",
              "      <td>0.0</td>\n",
              "    </tr>\n",
              "    <tr>\n",
              "      <th>2024-01-20 00:00:00+05:30</th>\n",
              "      <td>2519.949951</td>\n",
              "      <td>2523.000000</td>\n",
              "      <td>2466.100098</td>\n",
              "      <td>2468.899902</td>\n",
              "      <td>2465573</td>\n",
              "      <td>0.0</td>\n",
              "      <td>0.0</td>\n",
              "    </tr>\n",
              "  </tbody>\n",
              "</table>\n",
              "<p>7054 rows × 7 columns</p>\n",
              "</div>"
            ],
            "text/plain": [
              "                                  Open         High          Low        Close  \\\n",
              "Date                                                                            \n",
              "1996-01-01 00:00:00+05:30    34.911098    35.121575    34.689396    34.689396   \n",
              "1996-01-02 00:00:00+05:30    34.689394    35.191733    34.700620    35.059834   \n",
              "1996-01-03 00:00:00+05:30    35.059824    34.995276    34.686578    34.852154   \n",
              "1996-01-04 00:00:00+05:30    34.798835    34.967216    34.742709    34.854961   \n",
              "1996-01-05 00:00:00+05:30    34.854970    35.023353    34.518208    34.798843   \n",
              "...                                ...          ...          ...          ...   \n",
              "2024-01-16 00:00:00+05:30  2573.199951  2584.600098  2556.350098  2569.100098   \n",
              "2024-01-17 00:00:00+05:30  2549.000000  2571.350098  2539.750000  2562.899902   \n",
              "2024-01-18 00:00:00+05:30  2570.000000  2570.000000  2537.550049  2548.000000   \n",
              "2024-01-19 00:00:00+05:30  2565.000000  2573.949951  2532.000000  2565.399902   \n",
              "2024-01-20 00:00:00+05:30  2519.949951  2523.000000  2466.100098  2468.899902   \n",
              "\n",
              "                            Volume  Dividends  Stock Splits  \n",
              "Date                                                         \n",
              "1996-01-01 00:00:00+05:30    11000        0.0           0.0  \n",
              "1996-01-02 00:00:00+05:30   203500        0.0           0.0  \n",
              "1996-01-03 00:00:00+05:30    58000        0.0           0.0  \n",
              "1996-01-04 00:00:00+05:30   111500        0.0           0.0  \n",
              "1996-01-05 00:00:00+05:30    39500        0.0           0.0  \n",
              "...                            ...        ...           ...  \n",
              "2024-01-16 00:00:00+05:30  1599406        0.0           0.0  \n",
              "2024-01-17 00:00:00+05:30  3047652        0.0           0.0  \n",
              "2024-01-18 00:00:00+05:30  1273095        0.0           0.0  \n",
              "2024-01-19 00:00:00+05:30  1323064        0.0           0.0  \n",
              "2024-01-20 00:00:00+05:30  2465573        0.0           0.0  \n",
              "\n",
              "[7054 rows x 7 columns]"
            ]
          },
          "execution_count": 188,
          "metadata": {},
          "output_type": "execute_result"
        }
      ],
      "source": [
        "history"
      ]
    },
    {
      "cell_type": "code",
      "execution_count": 189,
      "metadata": {
        "colab": {
          "base_uri": "https://localhost:8080/"
        },
        "id": "Nupe3h5Z42I8",
        "outputId": "deb1e61c-b774-4923-8a3a-8f4a62979f81"
      },
      "outputs": [
        {
          "data": {
            "text/plain": [
              "DatetimeIndex(['1996-01-01 00:00:00+05:30', '1996-01-02 00:00:00+05:30',\n",
              "               '1996-01-03 00:00:00+05:30', '1996-01-04 00:00:00+05:30',\n",
              "               '1996-01-05 00:00:00+05:30', '1996-01-08 00:00:00+05:30',\n",
              "               '1996-01-09 00:00:00+05:30', '1996-01-10 00:00:00+05:30',\n",
              "               '1996-01-11 00:00:00+05:30', '1996-01-12 00:00:00+05:30',\n",
              "               ...\n",
              "               '2024-01-09 00:00:00+05:30', '2024-01-10 00:00:00+05:30',\n",
              "               '2024-01-11 00:00:00+05:30', '2024-01-12 00:00:00+05:30',\n",
              "               '2024-01-15 00:00:00+05:30', '2024-01-16 00:00:00+05:30',\n",
              "               '2024-01-17 00:00:00+05:30', '2024-01-18 00:00:00+05:30',\n",
              "               '2024-01-19 00:00:00+05:30', '2024-01-20 00:00:00+05:30'],\n",
              "              dtype='datetime64[ns, Asia/Kolkata]', name='Date', length=7054, freq=None)"
            ]
          },
          "execution_count": 189,
          "metadata": {},
          "output_type": "execute_result"
        }
      ],
      "source": [
        "history.index"
      ]
    },
    {
      "cell_type": "markdown",
      "metadata": {
        "id": "ULDIZGZH5D23"
      },
      "source": [
        "# CLEANING AND VISUALIZING"
      ]
    },
    {
      "cell_type": "code",
      "execution_count": 190,
      "metadata": {
        "colab": {
          "base_uri": "https://localhost:8080/",
          "height": 440
        },
        "id": "mo6PLadU5Hg7",
        "outputId": "ad7914df-24dd-42aa-8d9d-b24e02a449e8"
      },
      "outputs": [
        {
          "data": {
            "text/plain": [
              "<Axes: xlabel='Date'>"
            ]
          },
          "execution_count": 190,
          "metadata": {},
          "output_type": "execute_result"
        },
        {
          "data": {
            "image/png": "[encoded data removed]",
            "text/plain": [
              "<Figure size 640x480 with 1 Axes>"
            ]
          },
          "metadata": {},
          "output_type": "display_data"
        }
      ],
      "source": [
        "history.plot.line(y=\"Close\",use_index=True)"
      ]
    },
    {
      "cell_type": "code",
      "execution_count": 148,
      "metadata": {
        "id": "ufZ9dlww5bYz"
      },
      "outputs": [],
      "source": [
        "# Why didnt I buy this! (crying)"
      ]
    },
    {
      "cell_type": "code",
      "execution_count": 191,
      "metadata": {
        "id": "Zf3HphEs5k7u"
      },
      "outputs": [],
      "source": [
        "# delete unnecessary columns\n",
        "del history[\"Dividends\"]\n",
        "del history[\"Stock Splits\"]"
      ]
    },
    {
      "cell_type": "markdown",
      "metadata": {
        "id": "2JrdJDne56Zm"
      },
      "source": [
        "# Setting up our TARGET for ML"
      ]
    },
    {
      "cell_type": "code",
      "execution_count": 192,
      "metadata": {
        "id": "O1vWVfml59Ek"
      },
      "outputs": [],
      "source": [
        "# creating a column for Tomorrow's Price\n",
        "history[\"Tomorrow\"]  = history[\"Close\"].shift(-1)\n",
        "\n",
        "# shifted all prices back one day"
      ]
    },
    {
      "cell_type": "code",
      "execution_count": 193,
      "metadata": {
        "colab": {
          "base_uri": "https://localhost:8080/",
          "height": 455
        },
        "id": "HMtxRJtD6bjB",
        "outputId": "ff76eeed-66a2-41a8-b9f2-6772d89bb06d"
      },
      "outputs": [
        {
          "data": {
            "text/html": [
              "<div>\n",
              "<style scoped>\n",
              "    .dataframe tbody tr th:only-of-type {\n",
              "        vertical-align: middle;\n",
              "    }\n",
              "\n",
              "    .dataframe tbody tr th {\n",
              "        vertical-align: top;\n",
              "    }\n",
              "\n",
              "    .dataframe thead th {\n",
              "        text-align: right;\n",
              "    }\n",
              "</style>\n",
              "<table border=\"1\" class=\"dataframe\">\n",
              "  <thead>\n",
              "    <tr style=\"text-align: right;\">\n",
              "      <th></th>\n",
              "      <th>Open</th>\n",
              "      <th>High</th>\n",
              "      <th>Low</th>\n",
              "      <th>Close</th>\n",
              "      <th>Volume</th>\n",
              "      <th>Tomorrow</th>\n",
              "    </tr>\n",
              "    <tr>\n",
              "      <th>Date</th>\n",
              "      <th></th>\n",
              "      <th></th>\n",
              "      <th></th>\n",
              "      <th></th>\n",
              "      <th></th>\n",
              "      <th></th>\n",
              "    </tr>\n",
              "  </thead>\n",
              "  <tbody>\n",
              "    <tr>\n",
              "      <th>1996-01-01 00:00:00+05:30</th>\n",
              "      <td>34.911098</td>\n",
              "      <td>35.121575</td>\n",
              "      <td>34.689396</td>\n",
              "      <td>34.689396</td>\n",
              "      <td>11000</td>\n",
              "      <td>35.059834</td>\n",
              "    </tr>\n",
              "    <tr>\n",
              "      <th>1996-01-02 00:00:00+05:30</th>\n",
              "      <td>34.689394</td>\n",
              "      <td>35.191733</td>\n",
              "      <td>34.700620</td>\n",
              "      <td>35.059834</td>\n",
              "      <td>203500</td>\n",
              "      <td>34.852154</td>\n",
              "    </tr>\n",
              "    <tr>\n",
              "      <th>1996-01-03 00:00:00+05:30</th>\n",
              "      <td>35.059824</td>\n",
              "      <td>34.995276</td>\n",
              "      <td>34.686578</td>\n",
              "      <td>34.852154</td>\n",
              "      <td>58000</td>\n",
              "      <td>34.854961</td>\n",
              "    </tr>\n",
              "    <tr>\n",
              "      <th>1996-01-04 00:00:00+05:30</th>\n",
              "      <td>34.798835</td>\n",
              "      <td>34.967216</td>\n",
              "      <td>34.742709</td>\n",
              "      <td>34.854961</td>\n",
              "      <td>111500</td>\n",
              "      <td>34.798843</td>\n",
              "    </tr>\n",
              "    <tr>\n",
              "      <th>1996-01-05 00:00:00+05:30</th>\n",
              "      <td>34.854970</td>\n",
              "      <td>35.023353</td>\n",
              "      <td>34.518208</td>\n",
              "      <td>34.798843</td>\n",
              "      <td>39500</td>\n",
              "      <td>34.812885</td>\n",
              "    </tr>\n",
              "    <tr>\n",
              "      <th>...</th>\n",
              "      <td>...</td>\n",
              "      <td>...</td>\n",
              "      <td>...</td>\n",
              "      <td>...</td>\n",
              "      <td>...</td>\n",
              "      <td>...</td>\n",
              "    </tr>\n",
              "    <tr>\n",
              "      <th>2024-01-16 00:00:00+05:30</th>\n",
              "      <td>2573.199951</td>\n",
              "      <td>2584.600098</td>\n",
              "      <td>2556.350098</td>\n",
              "      <td>2569.100098</td>\n",
              "      <td>1599406</td>\n",
              "      <td>2562.899902</td>\n",
              "    </tr>\n",
              "    <tr>\n",
              "      <th>2024-01-17 00:00:00+05:30</th>\n",
              "      <td>2549.000000</td>\n",
              "      <td>2571.350098</td>\n",
              "      <td>2539.750000</td>\n",
              "      <td>2562.899902</td>\n",
              "      <td>3047652</td>\n",
              "      <td>2548.000000</td>\n",
              "    </tr>\n",
              "    <tr>\n",
              "      <th>2024-01-18 00:00:00+05:30</th>\n",
              "      <td>2570.000000</td>\n",
              "      <td>2570.000000</td>\n",
              "      <td>2537.550049</td>\n",
              "      <td>2548.000000</td>\n",
              "      <td>1273095</td>\n",
              "      <td>2565.399902</td>\n",
              "    </tr>\n",
              "    <tr>\n",
              "      <th>2024-01-19 00:00:00+05:30</th>\n",
              "      <td>2565.000000</td>\n",
              "      <td>2573.949951</td>\n",
              "      <td>2532.000000</td>\n",
              "      <td>2565.399902</td>\n",
              "      <td>1323064</td>\n",
              "      <td>2468.899902</td>\n",
              "    </tr>\n",
              "    <tr>\n",
              "      <th>2024-01-20 00:00:00+05:30</th>\n",
              "      <td>2519.949951</td>\n",
              "      <td>2523.000000</td>\n",
              "      <td>2466.100098</td>\n",
              "      <td>2468.899902</td>\n",
              "      <td>2465573</td>\n",
              "      <td>NaN</td>\n",
              "    </tr>\n",
              "  </tbody>\n",
              "</table>\n",
              "<p>7054 rows × 6 columns</p>\n",
              "</div>"
            ],
            "text/plain": [
              "                                  Open         High          Low        Close  \\\n",
              "Date                                                                            \n",
              "1996-01-01 00:00:00+05:30    34.911098    35.121575    34.689396    34.689396   \n",
              "1996-01-02 00:00:00+05:30    34.689394    35.191733    34.700620    35.059834   \n",
              "1996-01-03 00:00:00+05:30    35.059824    34.995276    34.686578    34.852154   \n",
              "1996-01-04 00:00:00+05:30    34.798835    34.967216    34.742709    34.854961   \n",
              "1996-01-05 00:00:00+05:30    34.854970    35.023353    34.518208    34.798843   \n",
              "...                                ...          ...          ...          ...   \n",
              "2024-01-16 00:00:00+05:30  2573.199951  2584.600098  2556.350098  2569.100098   \n",
              "2024-01-17 00:00:00+05:30  2549.000000  2571.350098  2539.750000  2562.899902   \n",
              "2024-01-18 00:00:00+05:30  2570.000000  2570.000000  2537.550049  2548.000000   \n",
              "2024-01-19 00:00:00+05:30  2565.000000  2573.949951  2532.000000  2565.399902   \n",
              "2024-01-20 00:00:00+05:30  2519.949951  2523.000000  2466.100098  2468.899902   \n",
              "\n",
              "                            Volume     Tomorrow  \n",
              "Date                                             \n",
              "1996-01-01 00:00:00+05:30    11000    35.059834  \n",
              "1996-01-02 00:00:00+05:30   203500    34.852154  \n",
              "1996-01-03 00:00:00+05:30    58000    34.854961  \n",
              "1996-01-04 00:00:00+05:30   111500    34.798843  \n",
              "1996-01-05 00:00:00+05:30    39500    34.812885  \n",
              "...                            ...          ...  \n",
              "2024-01-16 00:00:00+05:30  1599406  2562.899902  \n",
              "2024-01-17 00:00:00+05:30  3047652  2548.000000  \n",
              "2024-01-18 00:00:00+05:30  1273095  2565.399902  \n",
              "2024-01-19 00:00:00+05:30  1323064  2468.899902  \n",
              "2024-01-20 00:00:00+05:30  2465573          NaN  \n",
              "\n",
              "[7054 rows x 6 columns]"
            ]
          },
          "execution_count": 193,
          "metadata": {},
          "output_type": "execute_result"
        }
      ],
      "source": [
        "history"
      ]
    },
    {
      "cell_type": "code",
      "execution_count": 152,
      "metadata": {
        "id": "8wX__V317Hoq"
      },
      "outputs": [],
      "source": [
        "# boolean indicating if tomorrow's price is greater than today's price\n",
        "\n",
        "# then converting it to binary data for our model\n",
        "history[\"Target\"] = (history[\"Tomorrow\"] > history[\"Close\"]).astype(int)"
      ]
    },
    {
      "cell_type": "code",
      "execution_count": 194,
      "metadata": {
        "colab": {
          "base_uri": "https://localhost:8080/",
          "height": 455
        },
        "id": "hgW31Uft7hoj",
        "outputId": "440163f0-96a8-4f76-eac5-2b413dec0521"
      },
      "outputs": [
        {
          "data": {
            "text/html": [
              "<div>\n",
              "<style scoped>\n",
              "    .dataframe tbody tr th:only-of-type {\n",
              "        vertical-align: middle;\n",
              "    }\n",
              "\n",
              "    .dataframe tbody tr th {\n",
              "        vertical-align: top;\n",
              "    }\n",
              "\n",
              "    .dataframe thead th {\n",
              "        text-align: right;\n",
              "    }\n",
              "</style>\n",
              "<table border=\"1\" class=\"dataframe\">\n",
              "  <thead>\n",
              "    <tr style=\"text-align: right;\">\n",
              "      <th></th>\n",
              "      <th>Open</th>\n",
              "      <th>High</th>\n",
              "      <th>Low</th>\n",
              "      <th>Close</th>\n",
              "      <th>Volume</th>\n",
              "      <th>Tomorrow</th>\n",
              "    </tr>\n",
              "    <tr>\n",
              "      <th>Date</th>\n",
              "      <th></th>\n",
              "      <th></th>\n",
              "      <th></th>\n",
              "      <th></th>\n",
              "      <th></th>\n",
              "      <th></th>\n",
              "    </tr>\n",
              "  </thead>\n",
              "  <tbody>\n",
              "    <tr>\n",
              "      <th>1996-01-01 00:00:00+05:30</th>\n",
              "      <td>34.911098</td>\n",
              "      <td>35.121575</td>\n",
              "      <td>34.689396</td>\n",
              "      <td>34.689396</td>\n",
              "      <td>11000</td>\n",
              "      <td>35.059834</td>\n",
              "    </tr>\n",
              "    <tr>\n",
              "      <th>1996-01-02 00:00:00+05:30</th>\n",
              "      <td>34.689394</td>\n",
              "      <td>35.191733</td>\n",
              "      <td>34.700620</td>\n",
              "      <td>35.059834</td>\n",
              "      <td>203500</td>\n",
              "      <td>34.852154</td>\n",
              "    </tr>\n",
              "    <tr>\n",
              "      <th>1996-01-03 00:00:00+05:30</th>\n",
              "      <td>35.059824</td>\n",
              "      <td>34.995276</td>\n",
              "      <td>34.686578</td>\n",
              "      <td>34.852154</td>\n",
              "      <td>58000</td>\n",
              "      <td>34.854961</td>\n",
              "    </tr>\n",
              "    <tr>\n",
              "      <th>1996-01-04 00:00:00+05:30</th>\n",
              "      <td>34.798835</td>\n",
              "      <td>34.967216</td>\n",
              "      <td>34.742709</td>\n",
              "      <td>34.854961</td>\n",
              "      <td>111500</td>\n",
              "      <td>34.798843</td>\n",
              "    </tr>\n",
              "    <tr>\n",
              "      <th>1996-01-05 00:00:00+05:30</th>\n",
              "      <td>34.854970</td>\n",
              "      <td>35.023353</td>\n",
              "      <td>34.518208</td>\n",
              "      <td>34.798843</td>\n",
              "      <td>39500</td>\n",
              "      <td>34.812885</td>\n",
              "    </tr>\n",
              "    <tr>\n",
              "      <th>...</th>\n",
              "      <td>...</td>\n",
              "      <td>...</td>\n",
              "      <td>...</td>\n",
              "      <td>...</td>\n",
              "      <td>...</td>\n",
              "      <td>...</td>\n",
              "    </tr>\n",
              "    <tr>\n",
              "      <th>2024-01-16 00:00:00+05:30</th>\n",
              "      <td>2573.199951</td>\n",
              "      <td>2584.600098</td>\n",
              "      <td>2556.350098</td>\n",
              "      <td>2569.100098</td>\n",
              "      <td>1599406</td>\n",
              "      <td>2562.899902</td>\n",
              "    </tr>\n",
              "    <tr>\n",
              "      <th>2024-01-17 00:00:00+05:30</th>\n",
              "      <td>2549.000000</td>\n",
              "      <td>2571.350098</td>\n",
              "      <td>2539.750000</td>\n",
              "      <td>2562.899902</td>\n",
              "      <td>3047652</td>\n",
              "      <td>2548.000000</td>\n",
              "    </tr>\n",
              "    <tr>\n",
              "      <th>2024-01-18 00:00:00+05:30</th>\n",
              "      <td>2570.000000</td>\n",
              "      <td>2570.000000</td>\n",
              "      <td>2537.550049</td>\n",
              "      <td>2548.000000</td>\n",
              "      <td>1273095</td>\n",
              "      <td>2565.399902</td>\n",
              "    </tr>\n",
              "    <tr>\n",
              "      <th>2024-01-19 00:00:00+05:30</th>\n",
              "      <td>2565.000000</td>\n",
              "      <td>2573.949951</td>\n",
              "      <td>2532.000000</td>\n",
              "      <td>2565.399902</td>\n",
              "      <td>1323064</td>\n",
              "      <td>2468.899902</td>\n",
              "    </tr>\n",
              "    <tr>\n",
              "      <th>2024-01-20 00:00:00+05:30</th>\n",
              "      <td>2519.949951</td>\n",
              "      <td>2523.000000</td>\n",
              "      <td>2466.100098</td>\n",
              "      <td>2468.899902</td>\n",
              "      <td>2465573</td>\n",
              "      <td>NaN</td>\n",
              "    </tr>\n",
              "  </tbody>\n",
              "</table>\n",
              "<p>7054 rows × 6 columns</p>\n",
              "</div>"
            ],
            "text/plain": [
              "                                  Open         High          Low        Close  \\\n",
              "Date                                                                            \n",
              "1996-01-01 00:00:00+05:30    34.911098    35.121575    34.689396    34.689396   \n",
              "1996-01-02 00:00:00+05:30    34.689394    35.191733    34.700620    35.059834   \n",
              "1996-01-03 00:00:00+05:30    35.059824    34.995276    34.686578    34.852154   \n",
              "1996-01-04 00:00:00+05:30    34.798835    34.967216    34.742709    34.854961   \n",
              "1996-01-05 00:00:00+05:30    34.854970    35.023353    34.518208    34.798843   \n",
              "...                                ...          ...          ...          ...   \n",
              "2024-01-16 00:00:00+05:30  2573.199951  2584.600098  2556.350098  2569.100098   \n",
              "2024-01-17 00:00:00+05:30  2549.000000  2571.350098  2539.750000  2562.899902   \n",
              "2024-01-18 00:00:00+05:30  2570.000000  2570.000000  2537.550049  2548.000000   \n",
              "2024-01-19 00:00:00+05:30  2565.000000  2573.949951  2532.000000  2565.399902   \n",
              "2024-01-20 00:00:00+05:30  2519.949951  2523.000000  2466.100098  2468.899902   \n",
              "\n",
              "                            Volume     Tomorrow  \n",
              "Date                                             \n",
              "1996-01-01 00:00:00+05:30    11000    35.059834  \n",
              "1996-01-02 00:00:00+05:30   203500    34.852154  \n",
              "1996-01-03 00:00:00+05:30    58000    34.854961  \n",
              "1996-01-04 00:00:00+05:30   111500    34.798843  \n",
              "1996-01-05 00:00:00+05:30    39500    34.812885  \n",
              "...                            ...          ...  \n",
              "2024-01-16 00:00:00+05:30  1599406  2562.899902  \n",
              "2024-01-17 00:00:00+05:30  3047652  2548.000000  \n",
              "2024-01-18 00:00:00+05:30  1273095  2565.399902  \n",
              "2024-01-19 00:00:00+05:30  1323064  2468.899902  \n",
              "2024-01-20 00:00:00+05:30  2465573          NaN  \n",
              "\n",
              "[7054 rows x 6 columns]"
            ]
          },
          "execution_count": 194,
          "metadata": {},
          "output_type": "execute_result"
        }
      ],
      "source": [
        "history"
      ]
    },
    {
      "cell_type": "code",
      "execution_count": 195,
      "metadata": {
        "id": "AJC_vVys7k66"
      },
      "outputs": [],
      "source": [
        "# only take data which is relatively naya\n",
        "history = history.loc[\"2005-01-01\":].copy()"
      ]
    },
    {
      "cell_type": "code",
      "execution_count": 196,
      "metadata": {},
      "outputs": [
        {
          "data": {
            "text/html": [
              "<div>\n",
              "<style scoped>\n",
              "    .dataframe tbody tr th:only-of-type {\n",
              "        vertical-align: middle;\n",
              "    }\n",
              "\n",
              "    .dataframe tbody tr th {\n",
              "        vertical-align: top;\n",
              "    }\n",
              "\n",
              "    .dataframe thead th {\n",
              "        text-align: right;\n",
              "    }\n",
              "</style>\n",
              "<table border=\"1\" class=\"dataframe\">\n",
              "  <thead>\n",
              "    <tr style=\"text-align: right;\">\n",
              "      <th></th>\n",
              "      <th>Open</th>\n",
              "      <th>High</th>\n",
              "      <th>Low</th>\n",
              "      <th>Close</th>\n",
              "      <th>Volume</th>\n",
              "      <th>Tomorrow</th>\n",
              "    </tr>\n",
              "    <tr>\n",
              "      <th>Date</th>\n",
              "      <th></th>\n",
              "      <th></th>\n",
              "      <th></th>\n",
              "      <th></th>\n",
              "      <th></th>\n",
              "      <th></th>\n",
              "    </tr>\n",
              "  </thead>\n",
              "  <tbody>\n",
              "    <tr>\n",
              "      <th>2005-01-03 00:00:00+05:30</th>\n",
              "      <td>96.193105</td>\n",
              "      <td>96.193105</td>\n",
              "      <td>94.932647</td>\n",
              "      <td>95.861404</td>\n",
              "      <td>846383</td>\n",
              "      <td>97.055519</td>\n",
              "    </tr>\n",
              "    <tr>\n",
              "      <th>2005-01-04 00:00:00+05:30</th>\n",
              "      <td>96.193096</td>\n",
              "      <td>98.581343</td>\n",
              "      <td>95.629202</td>\n",
              "      <td>97.055519</td>\n",
              "      <td>1777742</td>\n",
              "      <td>95.894562</td>\n",
              "    </tr>\n",
              "    <tr>\n",
              "      <th>2005-01-05 00:00:00+05:30</th>\n",
              "      <td>97.387213</td>\n",
              "      <td>98.116948</td>\n",
              "      <td>94.269232</td>\n",
              "      <td>95.894562</td>\n",
              "      <td>1335778</td>\n",
              "      <td>94.103386</td>\n",
              "    </tr>\n",
              "    <tr>\n",
              "      <th>2005-01-06 00:00:00+05:30</th>\n",
              "      <td>95.529693</td>\n",
              "      <td>95.695543</td>\n",
              "      <td>92.942435</td>\n",
              "      <td>94.103386</td>\n",
              "      <td>1693246</td>\n",
              "      <td>93.572647</td>\n",
              "    </tr>\n",
              "    <tr>\n",
              "      <th>2005-01-07 00:00:00+05:30</th>\n",
              "      <td>93.705325</td>\n",
              "      <td>95.529677</td>\n",
              "      <td>93.240947</td>\n",
              "      <td>93.572647</td>\n",
              "      <td>731186</td>\n",
              "      <td>94.700447</td>\n",
              "    </tr>\n",
              "    <tr>\n",
              "      <th>...</th>\n",
              "      <td>...</td>\n",
              "      <td>...</td>\n",
              "      <td>...</td>\n",
              "      <td>...</td>\n",
              "      <td>...</td>\n",
              "      <td>...</td>\n",
              "    </tr>\n",
              "    <tr>\n",
              "      <th>2024-01-16 00:00:00+05:30</th>\n",
              "      <td>2573.199951</td>\n",
              "      <td>2584.600098</td>\n",
              "      <td>2556.350098</td>\n",
              "      <td>2569.100098</td>\n",
              "      <td>1599406</td>\n",
              "      <td>2562.899902</td>\n",
              "    </tr>\n",
              "    <tr>\n",
              "      <th>2024-01-17 00:00:00+05:30</th>\n",
              "      <td>2549.000000</td>\n",
              "      <td>2571.350098</td>\n",
              "      <td>2539.750000</td>\n",
              "      <td>2562.899902</td>\n",
              "      <td>3047652</td>\n",
              "      <td>2548.000000</td>\n",
              "    </tr>\n",
              "    <tr>\n",
              "      <th>2024-01-18 00:00:00+05:30</th>\n",
              "      <td>2570.000000</td>\n",
              "      <td>2570.000000</td>\n",
              "      <td>2537.550049</td>\n",
              "      <td>2548.000000</td>\n",
              "      <td>1273095</td>\n",
              "      <td>2565.399902</td>\n",
              "    </tr>\n",
              "    <tr>\n",
              "      <th>2024-01-19 00:00:00+05:30</th>\n",
              "      <td>2565.000000</td>\n",
              "      <td>2573.949951</td>\n",
              "      <td>2532.000000</td>\n",
              "      <td>2565.399902</td>\n",
              "      <td>1323064</td>\n",
              "      <td>2468.899902</td>\n",
              "    </tr>\n",
              "    <tr>\n",
              "      <th>2024-01-20 00:00:00+05:30</th>\n",
              "      <td>2519.949951</td>\n",
              "      <td>2523.000000</td>\n",
              "      <td>2466.100098</td>\n",
              "      <td>2468.899902</td>\n",
              "      <td>2465573</td>\n",
              "      <td>NaN</td>\n",
              "    </tr>\n",
              "  </tbody>\n",
              "</table>\n",
              "<p>4704 rows × 6 columns</p>\n",
              "</div>"
            ],
            "text/plain": [
              "                                  Open         High          Low        Close  \\\n",
              "Date                                                                            \n",
              "2005-01-03 00:00:00+05:30    96.193105    96.193105    94.932647    95.861404   \n",
              "2005-01-04 00:00:00+05:30    96.193096    98.581343    95.629202    97.055519   \n",
              "2005-01-05 00:00:00+05:30    97.387213    98.116948    94.269232    95.894562   \n",
              "2005-01-06 00:00:00+05:30    95.529693    95.695543    92.942435    94.103386   \n",
              "2005-01-07 00:00:00+05:30    93.705325    95.529677    93.240947    93.572647   \n",
              "...                                ...          ...          ...          ...   \n",
              "2024-01-16 00:00:00+05:30  2573.199951  2584.600098  2556.350098  2569.100098   \n",
              "2024-01-17 00:00:00+05:30  2549.000000  2571.350098  2539.750000  2562.899902   \n",
              "2024-01-18 00:00:00+05:30  2570.000000  2570.000000  2537.550049  2548.000000   \n",
              "2024-01-19 00:00:00+05:30  2565.000000  2573.949951  2532.000000  2565.399902   \n",
              "2024-01-20 00:00:00+05:30  2519.949951  2523.000000  2466.100098  2468.899902   \n",
              "\n",
              "                            Volume     Tomorrow  \n",
              "Date                                             \n",
              "2005-01-03 00:00:00+05:30   846383    97.055519  \n",
              "2005-01-04 00:00:00+05:30  1777742    95.894562  \n",
              "2005-01-05 00:00:00+05:30  1335778    94.103386  \n",
              "2005-01-06 00:00:00+05:30  1693246    93.572647  \n",
              "2005-01-07 00:00:00+05:30   731186    94.700447  \n",
              "...                            ...          ...  \n",
              "2024-01-16 00:00:00+05:30  1599406  2562.899902  \n",
              "2024-01-17 00:00:00+05:30  3047652  2548.000000  \n",
              "2024-01-18 00:00:00+05:30  1273095  2565.399902  \n",
              "2024-01-19 00:00:00+05:30  1323064  2468.899902  \n",
              "2024-01-20 00:00:00+05:30  2465573          NaN  \n",
              "\n",
              "[4704 rows x 6 columns]"
            ]
          },
          "execution_count": 196,
          "metadata": {},
          "output_type": "execute_result"
        }
      ],
      "source": [
        "history"
      ]
    },
    {
      "cell_type": "markdown",
      "metadata": {
        "id": "OH3i-s-CHSdK"
      },
      "source": [
        "# Training an initial Machine Learning Model"
      ]
    },
    {
      "cell_type": "code",
      "execution_count": 156,
      "metadata": {
        "colab": {
          "base_uri": "https://localhost:8080/",
          "height": 74
        },
        "id": "Dwrkg4IGHXgS",
        "outputId": "f100fe19-e0c2-4db7-e4d9-668410cd67de"
      },
      "outputs": [
        {
          "data": {
            "text/html": [
              "<style>#sk-container-id-5 {color: black;}#sk-container-id-5 pre{padding: 0;}#sk-container-id-5 div.sk-toggleable {background-color: white;}#sk-container-id-5 label.sk-toggleable__label {cursor: pointer;display: block;width: 100%;margin-bottom: 0;padding: 0.3em;box-sizing: border-box;text-align: center;}#sk-container-id-5 label.sk-toggleable__label-arrow:before {content: \"▸\";float: left;margin-right: 0.25em;color: #696969;}#sk-container-id-5 label.sk-toggleable__label-arrow:hover:before {color: black;}#sk-container-id-5 div.sk-estimator:hover label.sk-toggleable__label-arrow:before {color: black;}#sk-container-id-5 div.sk-toggleable__content {max-height: 0;max-width: 0;overflow: hidden;text-align: left;background-color: #f0f8ff;}#sk-container-id-5 div.sk-toggleable__content pre {margin: 0.2em;color: black;border-radius: 0.25em;background-color: #f0f8ff;}#sk-container-id-5 input.sk-toggleable__control:checked~div.sk-toggleable__content {max-height: 200px;max-width: 100%;overflow: auto;}#sk-container-id-5 input.sk-toggleable__control:checked~label.sk-toggleable__label-arrow:before {content: \"▾\";}#sk-container-id-5 div.sk-estimator input.sk-toggleable__control:checked~label.sk-toggleable__label {background-color: #d4ebff;}#sk-container-id-5 div.sk-label input.sk-toggleable__control:checked~label.sk-toggleable__label {background-color: #d4ebff;}#sk-container-id-5 input.sk-hidden--visually {border: 0;clip: rect(1px 1px 1px 1px);clip: rect(1px, 1px, 1px, 1px);height: 1px;margin: -1px;overflow: hidden;padding: 0;position: absolute;width: 1px;}#sk-container-id-5 div.sk-estimator {font-family: monospace;background-color: #f0f8ff;border: 1px dotted black;border-radius: 0.25em;box-sizing: border-box;margin-bottom: 0.5em;}#sk-container-id-5 div.sk-estimator:hover {background-color: #d4ebff;}#sk-container-id-5 div.sk-parallel-item::after {content: \"\";width: 100%;border-bottom: 1px solid gray;flex-grow: 1;}#sk-container-id-5 div.sk-label:hover label.sk-toggleable__label {background-color: #d4ebff;}#sk-container-id-5 div.sk-serial::before {content: \"\";position: absolute;border-left: 1px solid gray;box-sizing: border-box;top: 0;bottom: 0;left: 50%;z-index: 0;}#sk-container-id-5 div.sk-serial {display: flex;flex-direction: column;align-items: center;background-color: white;padding-right: 0.2em;padding-left: 0.2em;position: relative;}#sk-container-id-5 div.sk-item {position: relative;z-index: 1;}#sk-container-id-5 div.sk-parallel {display: flex;align-items: stretch;justify-content: center;background-color: white;position: relative;}#sk-container-id-5 div.sk-item::before, #sk-container-id-5 div.sk-parallel-item::before {content: \"\";position: absolute;border-left: 1px solid gray;box-sizing: border-box;top: 0;bottom: 0;left: 50%;z-index: -1;}#sk-container-id-5 div.sk-parallel-item {display: flex;flex-direction: column;z-index: 1;position: relative;background-color: white;}#sk-container-id-5 div.sk-parallel-item:first-child::after {align-self: flex-end;width: 50%;}#sk-container-id-5 div.sk-parallel-item:last-child::after {align-self: flex-start;width: 50%;}#sk-container-id-5 div.sk-parallel-item:only-child::after {width: 0;}#sk-container-id-5 div.sk-dashed-wrapped {border: 1px dashed gray;margin: 0 0.4em 0.5em 0.4em;box-sizing: border-box;padding-bottom: 0.4em;background-color: white;}#sk-container-id-5 div.sk-label label {font-family: monospace;font-weight: bold;display: inline-block;line-height: 1.2em;}#sk-container-id-5 div.sk-label-container {text-align: center;}#sk-container-id-5 div.sk-container {/* jupyter's `normalize.less` sets `[hidden] { display: none; }` but bootstrap.min.css set `[hidden] { display: none !important; }` so we also need the `!important` here to be able to override the default hidden behavior on the sphinx rendered scikit-learn.org. See: https://github.com/scikit-learn/scikit-learn/issues/21755 */display: inline-block !important;position: relative;}#sk-container-id-5 div.sk-text-repr-fallback {display: none;}</style><div id=\"sk-container-id-5\" class=\"sk-top-container\"><div class=\"sk-text-repr-fallback\"><pre>RandomForestClassifier(min_samples_split=100, n_estimators=1000, random_state=1)</pre><b>In a Jupyter environment, please rerun this cell to show the HTML representation or trust the notebook. <br />On GitHub, the HTML representation is unable to render, please try loading this page with nbviewer.org.</b></div><div class=\"sk-container\" hidden><div class=\"sk-item\"><div class=\"sk-estimator sk-toggleable\"><input class=\"sk-toggleable__control sk-hidden--visually\" id=\"sk-estimator-id-5\" type=\"checkbox\" checked><label for=\"sk-estimator-id-5\" class=\"sk-toggleable__label sk-toggleable__label-arrow\">RandomForestClassifier</label><div class=\"sk-toggleable__content\"><pre>RandomForestClassifier(min_samples_split=100, n_estimators=1000, random_state=1)</pre></div></div></div></div></div>"
            ],
            "text/plain": [
              "RandomForestClassifier(min_samples_split=100, n_estimators=1000, random_state=1)"
            ]
          },
          "execution_count": 156,
          "metadata": {},
          "output_type": "execute_result"
        }
      ],
      "source": [
        "from sklearn.ensemble import RandomForestClassifier\n",
        "\n",
        "\n",
        "# work by training randomparameters and average out.\n",
        "# resistant to overfitting\n",
        "# can pick up non-linear tendencies in the data\n",
        "\n",
        "# for example open price is not linearly related with the target\n",
        "                              # higher --> better  , optimum  ,\n",
        "model = RandomForestClassifier(n_estimators=1000,min_samples_split = 100,random_state = 1)\n",
        "\n",
        "\n",
        "# splitting data\n",
        "\n",
        "# all rows till 100 in the trauning set\n",
        "train = history.iloc[:-100]\n",
        "\n",
        "\n",
        "\n",
        "# last hundred rows in the test set\n",
        "test = history.iloc[-100:]\n",
        "\n",
        "\n",
        "\n",
        "\n",
        "predictors = [\"Close\",\"Volume\",\"Open\",\"High\",\"Low\"]\n",
        "\n",
        "model.fit(train[predictors],train[\"Target\"])"
      ]
    },
    {
      "cell_type": "code",
      "execution_count": 157,
      "metadata": {
        "id": "UDSaKFr4KAmV"
      },
      "outputs": [],
      "source": [
        "from sklearn.metrics import precision_score\n",
        "\n",
        "\n",
        "# exam time!\n",
        "\n",
        "\n",
        "preds = model.predict(test[predictors])"
      ]
    },
    {
      "cell_type": "code",
      "execution_count": 158,
      "metadata": {
        "id": "g6RH0ddUKXqN"
      },
      "outputs": [],
      "source": [
        "import pandas as pd\n",
        "preds = pd.Series(preds,index=test.index)"
      ]
    },
    {
      "cell_type": "code",
      "execution_count": 159,
      "metadata": {
        "colab": {
          "base_uri": "https://localhost:8080/"
        },
        "id": "sDPxu-8DKvuq",
        "outputId": "1f3fcf1c-b9f2-449c-a81b-a77720c7571b"
      },
      "outputs": [
        {
          "data": {
            "text/plain": [
              "0.5882352941176471"
            ]
          },
          "execution_count": 159,
          "metadata": {},
          "output_type": "execute_result"
        }
      ],
      "source": [
        "precision_score(test[\"Target\"],preds)"
      ]
    },
    {
      "cell_type": "markdown",
      "metadata": {
        "id": "tQWtL9n0K2Yu"
      },
      "source": [
        "# Making the Model Better"
      ]
    },
    {
      "cell_type": "code",
      "execution_count": 160,
      "metadata": {
        "id": "6He-yfB7K4iL"
      },
      "outputs": [],
      "source": [
        "combined  = pd.concat([test[\"Target\"],preds],axis=1)"
      ]
    },
    {
      "cell_type": "code",
      "execution_count": 161,
      "metadata": {
        "colab": {
          "base_uri": "https://localhost:8080/",
          "height": 451
        },
        "id": "zk_e3EGiLOF9",
        "outputId": "ff2034f9-2d57-4365-a5b4-f987a62753b1"
      },
      "outputs": [
        {
          "data": {
            "text/plain": [
              "<Axes: xlabel='Date'>"
            ]
          },
          "execution_count": 161,
          "metadata": {},
          "output_type": "execute_result"
        },
        {
          "data": {
            "image/png": "[encoded data removed]",
            "text/plain": [
              "<Figure size 640x480 with 1 Axes>"
            ]
          },
          "metadata": {},
          "output_type": "display_data"
        }
      ],
      "source": [
        "combined.plot()"
      ]
    },
    {
      "cell_type": "markdown",
      "metadata": {
        "id": "sYYJFbB-LcyB"
      },
      "source": [
        "# Building a BackTesting System"
      ]
    },
    {
      "cell_type": "code",
      "execution_count": 162,
      "metadata": {
        "id": "ft-5waV8LfRE"
      },
      "outputs": [],
      "source": [
        "def predict(train, test, predictors, model):\n",
        "    model.fit(train[predictors], train[\"Target\"])\n",
        "    preds = model.predict(test[predictors])\n",
        "    preds = pd.Series(preds, index=test.index, name=\"Predictions\")\n",
        "    combined = pd.concat([test[\"Target\"], preds], axis=1)\n",
        "    return combined"
      ]
    },
    {
      "cell_type": "code",
      "execution_count": 163,
      "metadata": {
        "colab": {
          "base_uri": "https://localhost:8080/",
          "height": 692
        },
        "id": "_zKIzXv1MW_p",
        "outputId": "1c061bfe-5393-4993-e0ce-52c3d0bf4a46"
      },
      "outputs": [],
      "source": [
        "def backtest(data, model, predictors, start=2500, step=250):\n",
        "    all_predictions = []\n",
        "\n",
        "    for i in range(start, data.shape[0], step):\n",
        "        train = data.iloc[0:i].copy()\n",
        "        test = data.iloc[i:(i+step)].copy()\n",
        "        predictions = predict(train, test, predictors, model)\n",
        "        all_predictions.append(predictions)\n",
        "    \n",
        "    return pd.concat(all_predictions)\n",
        "  "
      ]
    },
    {
      "cell_type": "code",
      "execution_count": 164,
      "metadata": {},
      "outputs": [],
      "source": [
        "predictions = backtest(history, model, predictors)"
      ]
    },
    {
      "cell_type": "code",
      "execution_count": 165,
      "metadata": {
        "id": "c9uj3JQkM27x"
      },
      "outputs": [
        {
          "name": "stdout",
          "output_type": "stream",
          "text": [
            "Predictions\n",
            "0    1615\n",
            "1     589\n",
            "Name: count, dtype: int64\n"
          ]
        }
      ],
      "source": [
        "if 'Predictions' in predictions.columns:\n",
        "    print(predictions[\"Predictions\"].value_counts())\n",
        "else:\n",
        "    print(\"The 'Predictions' column does not exist in the DataFrame.\")\n"
      ]
    },
    {
      "cell_type": "code",
      "execution_count": 166,
      "metadata": {},
      "outputs": [
        {
          "data": {
            "text/plain": [
              "0.5161290322580645"
            ]
          },
          "execution_count": 166,
          "metadata": {},
          "output_type": "execute_result"
        }
      ],
      "source": [
        "precision_score(predictions[\"Target\"], predictions[\"Predictions\"])"
      ]
    },
    {
      "cell_type": "code",
      "execution_count": 167,
      "metadata": {},
      "outputs": [
        {
          "data": {
            "text/plain": [
              "Target\n",
              "1    0.500454\n",
              "0    0.499546\n",
              "Name: count, dtype: float64"
            ]
          },
          "execution_count": 167,
          "metadata": {},
          "output_type": "execute_result"
        }
      ],
      "source": [
        "predictions[\"Target\"].value_counts() / predictions.shape[0]"
      ]
    },
    {
      "cell_type": "markdown",
      "metadata": {},
      "source": [
        "# Adding Additional Predictors to our Model"
      ]
    },
    {
      "cell_type": "code",
      "execution_count": 198,
      "metadata": {},
      "outputs": [
        {
          "ename": "KeyError",
          "evalue": "'Target'",
          "output_type": "error",
          "traceback": [
            "\u001b[1;31m---------------------------------------------------------------------------\u001b[0m",
            "\u001b[1;31mKeyError\u001b[0m                                  Traceback (most recent call last)",
            "File \u001b[1;32m~\\AppData\\Local\\Packages\\PythonSoftwareFoundation.Python.3.11_qbz5n2kfra8p0\\LocalCache\\local-packages\\Python311\\site-packages\\pandas\\core\\indexes\\base.py:3790\u001b[0m, in \u001b[0;36mIndex.get_loc\u001b[1;34m(self, key)\u001b[0m\n\u001b[0;32m   3789\u001b[0m \u001b[38;5;28;01mtry\u001b[39;00m:\n\u001b[1;32m-> 3790\u001b[0m     \u001b[38;5;28;01mreturn\u001b[39;00m \u001b[38;5;28;43mself\u001b[39;49m\u001b[38;5;241;43m.\u001b[39;49m\u001b[43m_engine\u001b[49m\u001b[38;5;241;43m.\u001b[39;49m\u001b[43mget_loc\u001b[49m\u001b[43m(\u001b[49m\u001b[43mcasted_key\u001b[49m\u001b[43m)\u001b[49m\n\u001b[0;32m   3791\u001b[0m \u001b[38;5;28;01mexcept\u001b[39;00m \u001b[38;5;167;01mKeyError\u001b[39;00m \u001b[38;5;28;01mas\u001b[39;00m err:\n",
            "File \u001b[1;32mindex.pyx:152\u001b[0m, in \u001b[0;36mpandas._libs.index.IndexEngine.get_loc\u001b[1;34m()\u001b[0m\n",
            "File \u001b[1;32mindex.pyx:181\u001b[0m, in \u001b[0;36mpandas._libs.index.IndexEngine.get_loc\u001b[1;34m()\u001b[0m\n",
            "File \u001b[1;32mpandas\\_libs\\hashtable_class_helper.pxi:7080\u001b[0m, in \u001b[0;36mpandas._libs.hashtable.PyObjectHashTable.get_item\u001b[1;34m()\u001b[0m\n",
            "File \u001b[1;32mpandas\\_libs\\hashtable_class_helper.pxi:7088\u001b[0m, in \u001b[0;36mpandas._libs.hashtable.PyObjectHashTable.get_item\u001b[1;34m()\u001b[0m\n",
            "\u001b[1;31mKeyError\u001b[0m: 'Target'",
            "\nThe above exception was the direct cause of the following exception:\n",
            "\u001b[1;31mKeyError\u001b[0m                                  Traceback (most recent call last)",
            "Cell \u001b[1;32mIn[198], line 12\u001b[0m\n\u001b[0;32m      8\u001b[0m history[ratio_column] \u001b[38;5;241m=\u001b[39m history[\u001b[38;5;124m\"\u001b[39m\u001b[38;5;124mClose\u001b[39m\u001b[38;5;124m\"\u001b[39m] \u001b[38;5;241m/\u001b[39m rolling_average[\u001b[38;5;124m\"\u001b[39m\u001b[38;5;124mClose\u001b[39m\u001b[38;5;124m\"\u001b[39m]\n\u001b[0;32m     11\u001b[0m trend_column \u001b[38;5;241m=\u001b[39m \u001b[38;5;124mf\u001b[39m\u001b[38;5;124m\"\u001b[39m\u001b[38;5;124mTrend_\u001b[39m\u001b[38;5;132;01m{\u001b[39;00mhorizon\u001b[38;5;132;01m}\u001b[39;00m\u001b[38;5;124m\"\u001b[39m\n\u001b[1;32m---> 12\u001b[0m history[trend_column] \u001b[38;5;241m=\u001b[39m \u001b[43mhistory\u001b[49m\u001b[38;5;241;43m.\u001b[39;49m\u001b[43mshift\u001b[49m\u001b[43m(\u001b[49m\u001b[38;5;241;43m1\u001b[39;49m\u001b[43m)\u001b[49m\u001b[38;5;241;43m.\u001b[39;49m\u001b[43mrolling\u001b[49m\u001b[43m(\u001b[49m\u001b[43mhorizon\u001b[49m\u001b[43m)\u001b[49m\u001b[38;5;241;43m.\u001b[39;49m\u001b[43msum\u001b[49m\u001b[43m(\u001b[49m\u001b[43m)\u001b[49m\u001b[43m[\u001b[49m\u001b[38;5;124;43m\"\u001b[39;49m\u001b[38;5;124;43mTarget\u001b[39;49m\u001b[38;5;124;43m\"\u001b[39;49m\u001b[43m]\u001b[49m\n\u001b[0;32m     14\u001b[0m new_predictors \u001b[38;5;241m+\u001b[39m\u001b[38;5;241m=\u001b[39m [ratio_column, trend_column]\n",
            "File \u001b[1;32m~\\AppData\\Local\\Packages\\PythonSoftwareFoundation.Python.3.11_qbz5n2kfra8p0\\LocalCache\\local-packages\\Python311\\site-packages\\pandas\\core\\frame.py:3893\u001b[0m, in \u001b[0;36mDataFrame.__getitem__\u001b[1;34m(self, key)\u001b[0m\n\u001b[0;32m   3891\u001b[0m \u001b[38;5;28;01mif\u001b[39;00m \u001b[38;5;28mself\u001b[39m\u001b[38;5;241m.\u001b[39mcolumns\u001b[38;5;241m.\u001b[39mnlevels \u001b[38;5;241m>\u001b[39m \u001b[38;5;241m1\u001b[39m:\n\u001b[0;32m   3892\u001b[0m     \u001b[38;5;28;01mreturn\u001b[39;00m \u001b[38;5;28mself\u001b[39m\u001b[38;5;241m.\u001b[39m_getitem_multilevel(key)\n\u001b[1;32m-> 3893\u001b[0m indexer \u001b[38;5;241m=\u001b[39m \u001b[38;5;28;43mself\u001b[39;49m\u001b[38;5;241;43m.\u001b[39;49m\u001b[43mcolumns\u001b[49m\u001b[38;5;241;43m.\u001b[39;49m\u001b[43mget_loc\u001b[49m\u001b[43m(\u001b[49m\u001b[43mkey\u001b[49m\u001b[43m)\u001b[49m\n\u001b[0;32m   3894\u001b[0m \u001b[38;5;28;01mif\u001b[39;00m is_integer(indexer):\n\u001b[0;32m   3895\u001b[0m     indexer \u001b[38;5;241m=\u001b[39m [indexer]\n",
            "File \u001b[1;32m~\\AppData\\Local\\Packages\\PythonSoftwareFoundation.Python.3.11_qbz5n2kfra8p0\\LocalCache\\local-packages\\Python311\\site-packages\\pandas\\core\\indexes\\base.py:3797\u001b[0m, in \u001b[0;36mIndex.get_loc\u001b[1;34m(self, key)\u001b[0m\n\u001b[0;32m   3792\u001b[0m     \u001b[38;5;28;01mif\u001b[39;00m \u001b[38;5;28misinstance\u001b[39m(casted_key, \u001b[38;5;28mslice\u001b[39m) \u001b[38;5;129;01mor\u001b[39;00m (\n\u001b[0;32m   3793\u001b[0m         \u001b[38;5;28misinstance\u001b[39m(casted_key, abc\u001b[38;5;241m.\u001b[39mIterable)\n\u001b[0;32m   3794\u001b[0m         \u001b[38;5;129;01mand\u001b[39;00m \u001b[38;5;28many\u001b[39m(\u001b[38;5;28misinstance\u001b[39m(x, \u001b[38;5;28mslice\u001b[39m) \u001b[38;5;28;01mfor\u001b[39;00m x \u001b[38;5;129;01min\u001b[39;00m casted_key)\n\u001b[0;32m   3795\u001b[0m     ):\n\u001b[0;32m   3796\u001b[0m         \u001b[38;5;28;01mraise\u001b[39;00m InvalidIndexError(key)\n\u001b[1;32m-> 3797\u001b[0m     \u001b[38;5;28;01mraise\u001b[39;00m \u001b[38;5;167;01mKeyError\u001b[39;00m(key) \u001b[38;5;28;01mfrom\u001b[39;00m \u001b[38;5;21;01merr\u001b[39;00m\n\u001b[0;32m   3798\u001b[0m \u001b[38;5;28;01mexcept\u001b[39;00m \u001b[38;5;167;01mTypeError\u001b[39;00m:\n\u001b[0;32m   3799\u001b[0m     \u001b[38;5;66;03m# If we have a listlike key, _check_indexing_error will raise\u001b[39;00m\n\u001b[0;32m   3800\u001b[0m     \u001b[38;5;66;03m#  InvalidIndexError. Otherwise we fall through and re-raise\u001b[39;00m\n\u001b[0;32m   3801\u001b[0m     \u001b[38;5;66;03m#  the TypeError.\u001b[39;00m\n\u001b[0;32m   3802\u001b[0m     \u001b[38;5;28mself\u001b[39m\u001b[38;5;241m.\u001b[39m_check_indexing_error(key)\n",
            "\u001b[1;31mKeyError\u001b[0m: 'Target'"
          ]
        }
      ],
      "source": [
        "horizons = [2,5,60,250,1000]\n",
        "new_predictors = []\n",
        "\n",
        "for horizon in horizons:\n",
        "    rolling_average = history.rolling(horizon).mean()\n",
        "\n",
        "    ratio_column = f\"Close_Ratio_{horizon}\"\n",
        "    history[ratio_column] = history[\"Close\"] / rolling_average[\"Close\"]\n",
        "\n",
        "\n",
        "    trend_column = f\"Trend_{horizon}\"\n",
        "    history[trend_column] = history.shift(1).rolling(horizon).sum()[\"Target\"]\n",
        "\n",
        "    new_predictors += [ratio_column, trend_column]"
      ]
    },
    {
      "cell_type": "code",
      "execution_count": 169,
      "metadata": {},
      "outputs": [
        {
          "data": {
            "text/html": [
              "<div>\n",
              "<style scoped>\n",
              "    .dataframe tbody tr th:only-of-type {\n",
              "        vertical-align: middle;\n",
              "    }\n",
              "\n",
              "    .dataframe tbody tr th {\n",
              "        vertical-align: top;\n",
              "    }\n",
              "\n",
              "    .dataframe thead th {\n",
              "        text-align: right;\n",
              "    }\n",
              "</style>\n",
              "<table border=\"1\" class=\"dataframe\">\n",
              "  <thead>\n",
              "    <tr style=\"text-align: right;\">\n",
              "      <th></th>\n",
              "      <th>Open</th>\n",
              "      <th>High</th>\n",
              "      <th>Low</th>\n",
              "      <th>Close</th>\n",
              "      <th>Volume</th>\n",
              "      <th>Tomorrow</th>\n",
              "      <th>Target</th>\n",
              "      <th>Close_Ratio_2</th>\n",
              "      <th>Trend_2</th>\n",
              "      <th>Close_Ratio_5</th>\n",
              "      <th>Trend_5</th>\n",
              "      <th>Close_Ratio_60</th>\n",
              "      <th>Trend_60</th>\n",
              "      <th>Close_Ratio_250</th>\n",
              "      <th>Trend_250</th>\n",
              "      <th>Close_Ratio_1000</th>\n",
              "      <th>Trend_1000</th>\n",
              "    </tr>\n",
              "    <tr>\n",
              "      <th>Date</th>\n",
              "      <th></th>\n",
              "      <th></th>\n",
              "      <th></th>\n",
              "      <th></th>\n",
              "      <th></th>\n",
              "      <th></th>\n",
              "      <th></th>\n",
              "      <th></th>\n",
              "      <th></th>\n",
              "      <th></th>\n",
              "      <th></th>\n",
              "      <th></th>\n",
              "      <th></th>\n",
              "      <th></th>\n",
              "      <th></th>\n",
              "      <th></th>\n",
              "      <th></th>\n",
              "    </tr>\n",
              "  </thead>\n",
              "  <tbody>\n",
              "    <tr>\n",
              "      <th>2005-01-03 00:00:00+05:30</th>\n",
              "      <td>96.193105</td>\n",
              "      <td>96.193105</td>\n",
              "      <td>94.932647</td>\n",
              "      <td>95.861404</td>\n",
              "      <td>846383</td>\n",
              "      <td>97.055496</td>\n",
              "      <td>1</td>\n",
              "      <td>NaN</td>\n",
              "      <td>NaN</td>\n",
              "      <td>NaN</td>\n",
              "      <td>NaN</td>\n",
              "      <td>NaN</td>\n",
              "      <td>NaN</td>\n",
              "      <td>NaN</td>\n",
              "      <td>NaN</td>\n",
              "      <td>NaN</td>\n",
              "      <td>NaN</td>\n",
              "    </tr>\n",
              "    <tr>\n",
              "      <th>2005-01-04 00:00:00+05:30</th>\n",
              "      <td>96.193074</td>\n",
              "      <td>98.581319</td>\n",
              "      <td>95.629179</td>\n",
              "      <td>97.055496</td>\n",
              "      <td>1777742</td>\n",
              "      <td>95.894577</td>\n",
              "      <td>0</td>\n",
              "      <td>1.006190</td>\n",
              "      <td>NaN</td>\n",
              "      <td>NaN</td>\n",
              "      <td>NaN</td>\n",
              "      <td>NaN</td>\n",
              "      <td>NaN</td>\n",
              "      <td>NaN</td>\n",
              "      <td>NaN</td>\n",
              "      <td>NaN</td>\n",
              "      <td>NaN</td>\n",
              "    </tr>\n",
              "    <tr>\n",
              "      <th>2005-01-05 00:00:00+05:30</th>\n",
              "      <td>97.387229</td>\n",
              "      <td>98.116963</td>\n",
              "      <td>94.269247</td>\n",
              "      <td>95.894577</td>\n",
              "      <td>1335778</td>\n",
              "      <td>94.103378</td>\n",
              "      <td>0</td>\n",
              "      <td>0.993983</td>\n",
              "      <td>1.0</td>\n",
              "      <td>NaN</td>\n",
              "      <td>NaN</td>\n",
              "      <td>NaN</td>\n",
              "      <td>NaN</td>\n",
              "      <td>NaN</td>\n",
              "      <td>NaN</td>\n",
              "      <td>NaN</td>\n",
              "      <td>NaN</td>\n",
              "    </tr>\n",
              "    <tr>\n",
              "      <th>2005-01-06 00:00:00+05:30</th>\n",
              "      <td>95.529686</td>\n",
              "      <td>95.695536</td>\n",
              "      <td>92.942427</td>\n",
              "      <td>94.103378</td>\n",
              "      <td>1693246</td>\n",
              "      <td>93.572662</td>\n",
              "      <td>0</td>\n",
              "      <td>0.990573</td>\n",
              "      <td>0.0</td>\n",
              "      <td>NaN</td>\n",
              "      <td>NaN</td>\n",
              "      <td>NaN</td>\n",
              "      <td>NaN</td>\n",
              "      <td>NaN</td>\n",
              "      <td>NaN</td>\n",
              "      <td>NaN</td>\n",
              "      <td>NaN</td>\n",
              "    </tr>\n",
              "    <tr>\n",
              "      <th>2005-01-07 00:00:00+05:30</th>\n",
              "      <td>93.705340</td>\n",
              "      <td>95.529692</td>\n",
              "      <td>93.240962</td>\n",
              "      <td>93.572662</td>\n",
              "      <td>731186</td>\n",
              "      <td>94.700432</td>\n",
              "      <td>1</td>\n",
              "      <td>0.997172</td>\n",
              "      <td>0.0</td>\n",
              "      <td>0.981900</td>\n",
              "      <td>NaN</td>\n",
              "      <td>NaN</td>\n",
              "      <td>NaN</td>\n",
              "      <td>NaN</td>\n",
              "      <td>NaN</td>\n",
              "      <td>NaN</td>\n",
              "      <td>NaN</td>\n",
              "    </tr>\n",
              "    <tr>\n",
              "      <th>...</th>\n",
              "      <td>...</td>\n",
              "      <td>...</td>\n",
              "      <td>...</td>\n",
              "      <td>...</td>\n",
              "      <td>...</td>\n",
              "      <td>...</td>\n",
              "      <td>...</td>\n",
              "      <td>...</td>\n",
              "      <td>...</td>\n",
              "      <td>...</td>\n",
              "      <td>...</td>\n",
              "      <td>...</td>\n",
              "      <td>...</td>\n",
              "      <td>...</td>\n",
              "      <td>...</td>\n",
              "      <td>...</td>\n",
              "      <td>...</td>\n",
              "    </tr>\n",
              "    <tr>\n",
              "      <th>2024-01-16 00:00:00+05:30</th>\n",
              "      <td>2573.199951</td>\n",
              "      <td>2584.600098</td>\n",
              "      <td>2556.350098</td>\n",
              "      <td>2569.100098</td>\n",
              "      <td>1599406</td>\n",
              "      <td>2562.899902</td>\n",
              "      <td>0</td>\n",
              "      <td>0.999203</td>\n",
              "      <td>1.0</td>\n",
              "      <td>1.003563</td>\n",
              "      <td>2.0</td>\n",
              "      <td>1.013749</td>\n",
              "      <td>30.0</td>\n",
              "      <td>1.012862</td>\n",
              "      <td>122.0</td>\n",
              "      <td>1.115965</td>\n",
              "      <td>487.0</td>\n",
              "    </tr>\n",
              "    <tr>\n",
              "      <th>2024-01-17 00:00:00+05:30</th>\n",
              "      <td>2549.000000</td>\n",
              "      <td>2571.350098</td>\n",
              "      <td>2539.750000</td>\n",
              "      <td>2562.899902</td>\n",
              "      <td>3047652</td>\n",
              "      <td>2548.000000</td>\n",
              "      <td>0</td>\n",
              "      <td>0.998792</td>\n",
              "      <td>0.0</td>\n",
              "      <td>1.002276</td>\n",
              "      <td>2.0</td>\n",
              "      <td>1.011081</td>\n",
              "      <td>30.0</td>\n",
              "      <td>1.010403</td>\n",
              "      <td>122.0</td>\n",
              "      <td>1.112897</td>\n",
              "      <td>486.0</td>\n",
              "    </tr>\n",
              "    <tr>\n",
              "      <th>2024-01-18 00:00:00+05:30</th>\n",
              "      <td>2570.000000</td>\n",
              "      <td>2570.000000</td>\n",
              "      <td>2537.550049</td>\n",
              "      <td>2548.000000</td>\n",
              "      <td>1273095</td>\n",
              "      <td>2565.399902</td>\n",
              "      <td>1</td>\n",
              "      <td>0.997085</td>\n",
              "      <td>0.0</td>\n",
              "      <td>0.995530</td>\n",
              "      <td>2.0</td>\n",
              "      <td>1.004734</td>\n",
              "      <td>30.0</td>\n",
              "      <td>1.004533</td>\n",
              "      <td>122.0</td>\n",
              "      <td>1.106067</td>\n",
              "      <td>485.0</td>\n",
              "    </tr>\n",
              "    <tr>\n",
              "      <th>2024-01-19 00:00:00+05:30</th>\n",
              "      <td>2565.000000</td>\n",
              "      <td>2573.949951</td>\n",
              "      <td>2532.000000</td>\n",
              "      <td>2565.399902</td>\n",
              "      <td>1323064</td>\n",
              "      <td>2468.899902</td>\n",
              "      <td>0</td>\n",
              "      <td>1.003403</td>\n",
              "      <td>1.0</td>\n",
              "      <td>1.000655</td>\n",
              "      <td>2.0</td>\n",
              "      <td>1.010931</td>\n",
              "      <td>31.0</td>\n",
              "      <td>1.011422</td>\n",
              "      <td>122.0</td>\n",
              "      <td>1.113252</td>\n",
              "      <td>485.0</td>\n",
              "    </tr>\n",
              "    <tr>\n",
              "      <th>2024-01-20 00:00:00+05:30</th>\n",
              "      <td>2519.949951</td>\n",
              "      <td>2523.000000</td>\n",
              "      <td>2466.100098</td>\n",
              "      <td>2468.899902</td>\n",
              "      <td>2465573</td>\n",
              "      <td>NaN</td>\n",
              "      <td>0</td>\n",
              "      <td>0.980831</td>\n",
              "      <td>1.0</td>\n",
              "      <td>0.970915</td>\n",
              "      <td>1.0</td>\n",
              "      <td>0.972842</td>\n",
              "      <td>31.0</td>\n",
              "      <td>0.973512</td>\n",
              "      <td>122.0</td>\n",
              "      <td>1.071074</td>\n",
              "      <td>484.0</td>\n",
              "    </tr>\n",
              "  </tbody>\n",
              "</table>\n",
              "<p>4704 rows × 17 columns</p>\n",
              "</div>"
            ],
            "text/plain": [
              "                                  Open         High          Low        Close  \\\n",
              "Date                                                                            \n",
              "2005-01-03 00:00:00+05:30    96.193105    96.193105    94.932647    95.861404   \n",
              "2005-01-04 00:00:00+05:30    96.193074    98.581319    95.629179    97.055496   \n",
              "2005-01-05 00:00:00+05:30    97.387229    98.116963    94.269247    95.894577   \n",
              "2005-01-06 00:00:00+05:30    95.529686    95.695536    92.942427    94.103378   \n",
              "2005-01-07 00:00:00+05:30    93.705340    95.529692    93.240962    93.572662   \n",
              "...                                ...          ...          ...          ...   \n",
              "2024-01-16 00:00:00+05:30  2573.199951  2584.600098  2556.350098  2569.100098   \n",
              "2024-01-17 00:00:00+05:30  2549.000000  2571.350098  2539.750000  2562.899902   \n",
              "2024-01-18 00:00:00+05:30  2570.000000  2570.000000  2537.550049  2548.000000   \n",
              "2024-01-19 00:00:00+05:30  2565.000000  2573.949951  2532.000000  2565.399902   \n",
              "2024-01-20 00:00:00+05:30  2519.949951  2523.000000  2466.100098  2468.899902   \n",
              "\n",
              "                            Volume     Tomorrow  Target  Close_Ratio_2  \\\n",
              "Date                                                                     \n",
              "2005-01-03 00:00:00+05:30   846383    97.055496       1            NaN   \n",
              "2005-01-04 00:00:00+05:30  1777742    95.894577       0       1.006190   \n",
              "2005-01-05 00:00:00+05:30  1335778    94.103378       0       0.993983   \n",
              "2005-01-06 00:00:00+05:30  1693246    93.572662       0       0.990573   \n",
              "2005-01-07 00:00:00+05:30   731186    94.700432       1       0.997172   \n",
              "...                            ...          ...     ...            ...   \n",
              "2024-01-16 00:00:00+05:30  1599406  2562.899902       0       0.999203   \n",
              "2024-01-17 00:00:00+05:30  3047652  2548.000000       0       0.998792   \n",
              "2024-01-18 00:00:00+05:30  1273095  2565.399902       1       0.997085   \n",
              "2024-01-19 00:00:00+05:30  1323064  2468.899902       0       1.003403   \n",
              "2024-01-20 00:00:00+05:30  2465573          NaN       0       0.980831   \n",
              "\n",
              "                           Trend_2  Close_Ratio_5  Trend_5  Close_Ratio_60  \\\n",
              "Date                                                                         \n",
              "2005-01-03 00:00:00+05:30      NaN            NaN      NaN             NaN   \n",
              "2005-01-04 00:00:00+05:30      NaN            NaN      NaN             NaN   \n",
              "2005-01-05 00:00:00+05:30      1.0            NaN      NaN             NaN   \n",
              "2005-01-06 00:00:00+05:30      0.0            NaN      NaN             NaN   \n",
              "2005-01-07 00:00:00+05:30      0.0       0.981900      NaN             NaN   \n",
              "...                            ...            ...      ...             ...   \n",
              "2024-01-16 00:00:00+05:30      1.0       1.003563      2.0        1.013749   \n",
              "2024-01-17 00:00:00+05:30      0.0       1.002276      2.0        1.011081   \n",
              "2024-01-18 00:00:00+05:30      0.0       0.995530      2.0        1.004734   \n",
              "2024-01-19 00:00:00+05:30      1.0       1.000655      2.0        1.010931   \n",
              "2024-01-20 00:00:00+05:30      1.0       0.970915      1.0        0.972842   \n",
              "\n",
              "                           Trend_60  Close_Ratio_250  Trend_250  \\\n",
              "Date                                                              \n",
              "2005-01-03 00:00:00+05:30       NaN              NaN        NaN   \n",
              "2005-01-04 00:00:00+05:30       NaN              NaN        NaN   \n",
              "2005-01-05 00:00:00+05:30       NaN              NaN        NaN   \n",
              "2005-01-06 00:00:00+05:30       NaN              NaN        NaN   \n",
              "2005-01-07 00:00:00+05:30       NaN              NaN        NaN   \n",
              "...                             ...              ...        ...   \n",
              "2024-01-16 00:00:00+05:30      30.0         1.012862      122.0   \n",
              "2024-01-17 00:00:00+05:30      30.0         1.010403      122.0   \n",
              "2024-01-18 00:00:00+05:30      30.0         1.004533      122.0   \n",
              "2024-01-19 00:00:00+05:30      31.0         1.011422      122.0   \n",
              "2024-01-20 00:00:00+05:30      31.0         0.973512      122.0   \n",
              "\n",
              "                           Close_Ratio_1000  Trend_1000  \n",
              "Date                                                     \n",
              "2005-01-03 00:00:00+05:30               NaN         NaN  \n",
              "2005-01-04 00:00:00+05:30               NaN         NaN  \n",
              "2005-01-05 00:00:00+05:30               NaN         NaN  \n",
              "2005-01-06 00:00:00+05:30               NaN         NaN  \n",
              "2005-01-07 00:00:00+05:30               NaN         NaN  \n",
              "...                                     ...         ...  \n",
              "2024-01-16 00:00:00+05:30          1.115965       487.0  \n",
              "2024-01-17 00:00:00+05:30          1.112897       486.0  \n",
              "2024-01-18 00:00:00+05:30          1.106067       485.0  \n",
              "2024-01-19 00:00:00+05:30          1.113252       485.0  \n",
              "2024-01-20 00:00:00+05:30          1.071074       484.0  \n",
              "\n",
              "[4704 rows x 17 columns]"
            ]
          },
          "execution_count": 169,
          "metadata": {},
          "output_type": "execute_result"
        }
      ],
      "source": [
        "history"
      ]
    },
    {
      "cell_type": "markdown",
      "metadata": {},
      "source": [
        "# Improving our Model"
      ]
    },
    {
      "cell_type": "code",
      "execution_count": 199,
      "metadata": {},
      "outputs": [],
      "source": [
        "model = RandomForestClassifier(n_estimators=200, min_samples_split=50, random_state=1)"
      ]
    },
    {
      "cell_type": "code",
      "execution_count": 201,
      "metadata": {},
      "outputs": [],
      "source": [
        "def predict(train, test, predictors, model):\n",
        "    model.fit(train[predictors], train[\"Target\"])\n",
        "    preds = model.predict_proba(test[predictors])[:,1]\n",
        "    preds[preds >=.6] = 1\n",
        "    preds[preds <.6] = 0\n",
        "    preds = pd.Series(preds, index=test.index, name=\"Predictions\")\n",
        "    combined = pd.concat([test[\"Target\"], preds], axis=1)\n",
        "    return combined"
      ]
    },
    {
      "cell_type": "code",
      "execution_count": 203,
      "metadata": {},
      "outputs": [
        {
          "ename": "KeyError",
          "evalue": "'Target'",
          "output_type": "error",
          "traceback": [
            "\u001b[1;31m---------------------------------------------------------------------------\u001b[0m",
            "\u001b[1;31mKeyError\u001b[0m                                  Traceback (most recent call last)",
            "File \u001b[1;32m~\\AppData\\Local\\Packages\\PythonSoftwareFoundation.Python.3.11_qbz5n2kfra8p0\\LocalCache\\local-packages\\Python311\\site-packages\\pandas\\core\\indexes\\base.py:3790\u001b[0m, in \u001b[0;36mIndex.get_loc\u001b[1;34m(self, key)\u001b[0m\n\u001b[0;32m   3789\u001b[0m \u001b[38;5;28;01mtry\u001b[39;00m:\n\u001b[1;32m-> 3790\u001b[0m     \u001b[38;5;28;01mreturn\u001b[39;00m \u001b[38;5;28;43mself\u001b[39;49m\u001b[38;5;241;43m.\u001b[39;49m\u001b[43m_engine\u001b[49m\u001b[38;5;241;43m.\u001b[39;49m\u001b[43mget_loc\u001b[49m\u001b[43m(\u001b[49m\u001b[43mcasted_key\u001b[49m\u001b[43m)\u001b[49m\n\u001b[0;32m   3791\u001b[0m \u001b[38;5;28;01mexcept\u001b[39;00m \u001b[38;5;167;01mKeyError\u001b[39;00m \u001b[38;5;28;01mas\u001b[39;00m err:\n",
            "File \u001b[1;32mindex.pyx:152\u001b[0m, in \u001b[0;36mpandas._libs.index.IndexEngine.get_loc\u001b[1;34m()\u001b[0m\n",
            "File \u001b[1;32mindex.pyx:181\u001b[0m, in \u001b[0;36mpandas._libs.index.IndexEngine.get_loc\u001b[1;34m()\u001b[0m\n",
            "File \u001b[1;32mpandas\\_libs\\hashtable_class_helper.pxi:7080\u001b[0m, in \u001b[0;36mpandas._libs.hashtable.PyObjectHashTable.get_item\u001b[1;34m()\u001b[0m\n",
            "File \u001b[1;32mpandas\\_libs\\hashtable_class_helper.pxi:7088\u001b[0m, in \u001b[0;36mpandas._libs.hashtable.PyObjectHashTable.get_item\u001b[1;34m()\u001b[0m\n",
            "\u001b[1;31mKeyError\u001b[0m: 'Target'",
            "\nThe above exception was the direct cause of the following exception:\n",
            "\u001b[1;31mKeyError\u001b[0m                                  Traceback (most recent call last)",
            "Cell \u001b[1;32mIn[203], line 1\u001b[0m\n\u001b[1;32m----> 1\u001b[0m prediction \u001b[38;5;241m=\u001b[39m \u001b[43mbacktest\u001b[49m\u001b[43m(\u001b[49m\u001b[43mhistory\u001b[49m\u001b[43m,\u001b[49m\u001b[43m \u001b[49m\u001b[43mmodel\u001b[49m\u001b[43m,\u001b[49m\u001b[43m \u001b[49m\u001b[43mnew_predictors\u001b[49m\u001b[43m)\u001b[49m\n",
            "Cell \u001b[1;32mIn[163], line 7\u001b[0m, in \u001b[0;36mbacktest\u001b[1;34m(data, model, predictors, start, step)\u001b[0m\n\u001b[0;32m      5\u001b[0m     train \u001b[38;5;241m=\u001b[39m data\u001b[38;5;241m.\u001b[39miloc[\u001b[38;5;241m0\u001b[39m:i]\u001b[38;5;241m.\u001b[39mcopy()\n\u001b[0;32m      6\u001b[0m     test \u001b[38;5;241m=\u001b[39m data\u001b[38;5;241m.\u001b[39miloc[i:(i\u001b[38;5;241m+\u001b[39mstep)]\u001b[38;5;241m.\u001b[39mcopy()\n\u001b[1;32m----> 7\u001b[0m     predictions \u001b[38;5;241m=\u001b[39m \u001b[43mpredict\u001b[49m\u001b[43m(\u001b[49m\u001b[43mtrain\u001b[49m\u001b[43m,\u001b[49m\u001b[43m \u001b[49m\u001b[43mtest\u001b[49m\u001b[43m,\u001b[49m\u001b[43m \u001b[49m\u001b[43mpredictors\u001b[49m\u001b[43m,\u001b[49m\u001b[43m \u001b[49m\u001b[43mmodel\u001b[49m\u001b[43m)\u001b[49m\n\u001b[0;32m      8\u001b[0m     all_predictions\u001b[38;5;241m.\u001b[39mappend(predictions)\n\u001b[0;32m     10\u001b[0m \u001b[38;5;28;01mreturn\u001b[39;00m pd\u001b[38;5;241m.\u001b[39mconcat(all_predictions)\n",
            "Cell \u001b[1;32mIn[201], line 2\u001b[0m, in \u001b[0;36mpredict\u001b[1;34m(train, test, predictors, model)\u001b[0m\n\u001b[0;32m      1\u001b[0m \u001b[38;5;28;01mdef\u001b[39;00m \u001b[38;5;21mpredict\u001b[39m(train, test, predictors, model):\n\u001b[1;32m----> 2\u001b[0m     model\u001b[38;5;241m.\u001b[39mfit(train[predictors], \u001b[43mtrain\u001b[49m\u001b[43m[\u001b[49m\u001b[38;5;124;43m\"\u001b[39;49m\u001b[38;5;124;43mTarget\u001b[39;49m\u001b[38;5;124;43m\"\u001b[39;49m\u001b[43m]\u001b[49m)\n\u001b[0;32m      3\u001b[0m     preds \u001b[38;5;241m=\u001b[39m model\u001b[38;5;241m.\u001b[39mpredict_proba(test[predictors])[:,\u001b[38;5;241m1\u001b[39m]\n\u001b[0;32m      4\u001b[0m     preds[preds \u001b[38;5;241m>\u001b[39m\u001b[38;5;241m=\u001b[39m\u001b[38;5;241m.6\u001b[39m] \u001b[38;5;241m=\u001b[39m \u001b[38;5;241m1\u001b[39m\n",
            "File \u001b[1;32m~\\AppData\\Local\\Packages\\PythonSoftwareFoundation.Python.3.11_qbz5n2kfra8p0\\LocalCache\\local-packages\\Python311\\site-packages\\pandas\\core\\frame.py:3893\u001b[0m, in \u001b[0;36mDataFrame.__getitem__\u001b[1;34m(self, key)\u001b[0m\n\u001b[0;32m   3891\u001b[0m \u001b[38;5;28;01mif\u001b[39;00m \u001b[38;5;28mself\u001b[39m\u001b[38;5;241m.\u001b[39mcolumns\u001b[38;5;241m.\u001b[39mnlevels \u001b[38;5;241m>\u001b[39m \u001b[38;5;241m1\u001b[39m:\n\u001b[0;32m   3892\u001b[0m     \u001b[38;5;28;01mreturn\u001b[39;00m \u001b[38;5;28mself\u001b[39m\u001b[38;5;241m.\u001b[39m_getitem_multilevel(key)\n\u001b[1;32m-> 3893\u001b[0m indexer \u001b[38;5;241m=\u001b[39m \u001b[38;5;28;43mself\u001b[39;49m\u001b[38;5;241;43m.\u001b[39;49m\u001b[43mcolumns\u001b[49m\u001b[38;5;241;43m.\u001b[39;49m\u001b[43mget_loc\u001b[49m\u001b[43m(\u001b[49m\u001b[43mkey\u001b[49m\u001b[43m)\u001b[49m\n\u001b[0;32m   3894\u001b[0m \u001b[38;5;28;01mif\u001b[39;00m is_integer(indexer):\n\u001b[0;32m   3895\u001b[0m     indexer \u001b[38;5;241m=\u001b[39m [indexer]\n",
            "File \u001b[1;32m~\\AppData\\Local\\Packages\\PythonSoftwareFoundation.Python.3.11_qbz5n2kfra8p0\\LocalCache\\local-packages\\Python311\\site-packages\\pandas\\core\\indexes\\base.py:3797\u001b[0m, in \u001b[0;36mIndex.get_loc\u001b[1;34m(self, key)\u001b[0m\n\u001b[0;32m   3792\u001b[0m     \u001b[38;5;28;01mif\u001b[39;00m \u001b[38;5;28misinstance\u001b[39m(casted_key, \u001b[38;5;28mslice\u001b[39m) \u001b[38;5;129;01mor\u001b[39;00m (\n\u001b[0;32m   3793\u001b[0m         \u001b[38;5;28misinstance\u001b[39m(casted_key, abc\u001b[38;5;241m.\u001b[39mIterable)\n\u001b[0;32m   3794\u001b[0m         \u001b[38;5;129;01mand\u001b[39;00m \u001b[38;5;28many\u001b[39m(\u001b[38;5;28misinstance\u001b[39m(x, \u001b[38;5;28mslice\u001b[39m) \u001b[38;5;28;01mfor\u001b[39;00m x \u001b[38;5;129;01min\u001b[39;00m casted_key)\n\u001b[0;32m   3795\u001b[0m     ):\n\u001b[0;32m   3796\u001b[0m         \u001b[38;5;28;01mraise\u001b[39;00m InvalidIndexError(key)\n\u001b[1;32m-> 3797\u001b[0m     \u001b[38;5;28;01mraise\u001b[39;00m \u001b[38;5;167;01mKeyError\u001b[39;00m(key) \u001b[38;5;28;01mfrom\u001b[39;00m \u001b[38;5;21;01merr\u001b[39;00m\n\u001b[0;32m   3798\u001b[0m \u001b[38;5;28;01mexcept\u001b[39;00m \u001b[38;5;167;01mTypeError\u001b[39;00m:\n\u001b[0;32m   3799\u001b[0m     \u001b[38;5;66;03m# If we have a listlike key, _check_indexing_error will raise\u001b[39;00m\n\u001b[0;32m   3800\u001b[0m     \u001b[38;5;66;03m#  InvalidIndexError. Otherwise we fall through and re-raise\u001b[39;00m\n\u001b[0;32m   3801\u001b[0m     \u001b[38;5;66;03m#  the TypeError.\u001b[39;00m\n\u001b[0;32m   3802\u001b[0m     \u001b[38;5;28mself\u001b[39m\u001b[38;5;241m.\u001b[39m_check_indexing_error(key)\n",
            "\u001b[1;31mKeyError\u001b[0m: 'Target'"
          ]
        }
      ],
      "source": [
        "prediction = backtest(history, model, new_predictors)\n"
      ]
    },
    {
      "cell_type": "code",
      "execution_count": null,
      "metadata": {},
      "outputs": [],
      "source": [
        "predictions[\"Predictions\"].value_counts()"
      ]
    }
  ],
  "metadata": {
    "colab": {
      "authorship_tag": "ABX9TyPl3g4C0X8OW23O92WC2ROA",
      "include_colab_link": true,
      "provenance": []
    },
    "kernelspec": {
      "display_name": "Python 3",
      "name": "python3"
    },
    "language_info": {
      "codemirror_mode": {
        "name": "ipython",
        "version": 3
      },
      "file_extension": ".py",
      "mimetype": "text/x-python",
      "name": "python",
      "nbconvert_exporter": "python",
      "pygments_lexer": "ipython3",
      "version": "3.11.7"
    }
  },
  "nbformat": 4,
  "nbformat_minor": 0
}
